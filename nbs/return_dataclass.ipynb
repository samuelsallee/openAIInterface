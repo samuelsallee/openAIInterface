{
 "cells": [
  {
   "cell_type": "code",
   "execution_count": null,
   "metadata": {},
   "outputs": [],
   "source": [
    "#default_exp return_dataclass"
   ]
  },
  {
   "attachments": {},
   "cell_type": "markdown",
   "metadata": {},
   "source": [
    "# Return Dataclass\n",
    "Class into which the search response will be stored"
   ]
  },
  {
   "cell_type": "code",
   "execution_count": null,
   "metadata": {},
   "outputs": [],
   "source": [
    "#export\n",
    "from dataclasses_json import dataclass_json\n",
    "from dataclasses import dataclass, field\n",
    "from typing import List, Dict, Any, Union, Optional\n",
    "import pandas as pd\n"
   ]
  },
  {
   "cell_type": "code",
   "execution_count": null,
   "metadata": {},
   "outputs": [],
   "source": [
    "#export\n",
    "@dataclass_json\n",
    "@dataclass\n",
    "class QueryInput:\n",
    "    search_term : str\n",
    "    num_items_to_return: int = 100\n",
    "    brands: Optional[List[str]] = None\n",
    "    filters: Optional[List[str]] = None\n",
    "\n",
    "@dataclass_json\n",
    "@dataclass\n",
    "class Item:\n",
    "    cprcode: str\n",
    "    pr_engname: str\n",
    "    similarity_str: Optional[str] = None\n",
    "    pr_filter: Optional[List[str]] = None\n",
    "\n",
    "@dataclass_json\n",
    "@dataclass\n",
    "class InputClass:\n",
    "    '''\n",
    "    input class, search function should take this as input\n",
    "    '''\n",
    "    queryStringParameters: QueryInput"
   ]
  },
  {
   "cell_type": "code",
   "execution_count": null,
   "metadata": {},
   "outputs": [],
   "source": [
    "#export\n",
    "@dataclass_json\n",
    "@dataclass\n",
    "class Field:\n",
    "    cprcode:List[str]\n",
    "    pr_engname:List[str]\n",
    "    pr_filter_en:Optional[List[str]]=None\n",
    "\n",
    "@dataclass_json\n",
    "@dataclass\n",
    "class Result:\n",
    "    id:str\n",
    "    fields:Field\n",
    "@dataclass_json\n",
    "@dataclass\n",
    "class Hits:\n",
    "    hit:List[Result]\n",
    "\n",
    "@dataclass_json\n",
    "@dataclass\n",
    "class SearchResponse:\n",
    "    hits: Hits\n",
    "    def result(self)->List[Field]: return [result.fields for result in self.hits.hit]\n",
    "    def resultDict(self)->List[dict]:\n",
    "        return [{'cprcode':r.parsedCprcode, 'name':r.name} for r in self.result]\n",
    "    def resultDf(self)->pd.DataFrame:\n",
    "        return pd.DataFrame(self.resultDict)\n",
    "    def nameSortedDf(self)->pd.DataFrame:\n",
    "        return self.resultDf.sort_values(by='name')\n",
    "\n",
    " "
   ]
  },
  {
   "cell_type": "code",
   "execution_count": null,
   "metadata": {},
   "outputs": [],
   "source": [
    "#export\n",
    "@dataclass_json\n",
    "@dataclass\n",
    "class Body:\n",
    "    '''output from your custom search functions'''\n",
    "    search_results: List[Item]\n",
    "    search_input: QueryInput\n",
    "    # suggestions: List[str] = field(default_factory=list)\n",
    "    \n",
    "@dataclass_json\n",
    "@dataclass\n",
    "class Output:\n",
    "    '''\n",
    "    output class, search function should return this as output\n",
    "    body should be json payload of class Body\n",
    "    '''\n",
    "    body: str #json payload of class Body\n",
    "    statusCode: int = 200\n",
    "    headers: dict = field(default_factory=lambda: \n",
    "        { 'Access-Control-Allow-Headers': '*', \n",
    "            'Access-Control-Allow-Origin': '*', \n",
    "            'Access-Control-Allow-Methods': '*'})"
   ]
  },
  {
   "cell_type": "code",
   "execution_count": null,
   "metadata": {},
   "outputs": [],
   "source": [
    "#hide\n",
    "from awsSchema.apigateway import Event"
   ]
  },
  {
   "cell_type": "code",
   "execution_count": null,
   "metadata": {},
   "outputs": [],
   "source": [
    "queryStringParameters = {\"search_term\": \"hamburger\", \"num_items_to_return\": 76}\n",
    "\n",
    "sampleEvent = Event.getInput(queryStringParameters=queryStringParameters)"
   ]
  },
  {
   "cell_type": "code",
   "execution_count": null,
   "metadata": {},
   "outputs": [
    {
     "data": {
      "text/plain": [
       "{'body': '{}',\n",
       " 'httpMethod': None,\n",
       " 'multiValueHeaders': None,\n",
       " 'multiValueQueryStringParameters': None,\n",
       " 'path': None,\n",
       " 'pathParameters': None,\n",
       " 'queryStringParameters': {'search_term': 'hamburger',\n",
       "  'num_items_to_return': 76},\n",
       " 'requestContext': None,\n",
       " 'headers': {},\n",
       " 'statusCode': 200,\n",
       " 'isBase64Encoded': False}"
      ]
     },
     "execution_count": null,
     "metadata": {},
     "output_type": "execute_result"
    }
   ],
   "source": [
    "sampleEvent"
   ]
  },
  {
   "cell_type": "code",
   "execution_count": null,
   "metadata": {},
   "outputs": [],
   "source": [
    "import json"
   ]
  },
  {
   "cell_type": "code",
   "execution_count": null,
   "metadata": {},
   "outputs": [],
   "source": [
    "input = InputClass.from_dict(sampleEvent)"
   ]
  },
  {
   "cell_type": "code",
   "execution_count": null,
   "metadata": {},
   "outputs": [],
   "source": []
  }
 ],
 "metadata": {
  "kernelspec": {
   "display_name": "Python 3",
   "language": "python",
   "name": "python3"
  }
 },
 "nbformat": 4,
 "nbformat_minor": 2
}
