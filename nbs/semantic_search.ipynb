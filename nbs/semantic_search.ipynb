{
 "cells": [
  {
   "cell_type": "markdown",
   "metadata": {},
   "source": [
    "## Semantic text search using embeddings\n",
    "\n",
    "We can search through all our reviews semantically in a very efficient manner and at very low cost, by simply embedding our search query, and then finding the most similar reviews. The dataset is created in the [Obtain_dataset Notebook](Obtain_dataset.ipynb)."
   ]
  },
  {
   "cell_type": "code",
   "execution_count": null,
   "metadata": {},
   "outputs": [],
   "source": [
    "import pandas as pd\n",
    "import numpy as np\n",
    "\n",
    "datafile_path = \"villa_database_with_embeddings.csv\"\n",
    "\n",
    "df = pd.read_csv(datafile_path)\n",
    "df[\"embedding\"] = df.embedding.apply(eval).apply(np.array)\n"
   ]
  },
  {
   "cell_type": "code",
   "execution_count": null,
   "metadata": {},
   "outputs": [],
   "source": [
    "def convertDtype(array):\n",
    "    return np.array(array).astype(np.float16)"
   ]
  },
  {
   "cell_type": "code",
   "execution_count": null,
   "metadata": {},
   "outputs": [],
   "source": [
    "import pyarrow.feather as feather\n",
    "import pandas as pd\n",
    "import numpy as np\n",
    "\n",
    "df = feather.read_feather(\"villa_index_float32.feather\")\n",
    "# df[\"embedding\"] = df.embedding.apply(convertDtype)\n"
   ]
  },
  {
   "cell_type": "code",
   "execution_count": null,
   "metadata": {},
   "outputs": [
    {
     "data": {
      "text/plain": [
       "dtype('O')"
      ]
     },
     "execution_count": null,
     "metadata": {},
     "output_type": "execute_result"
    }
   ],
   "source": [
    "df.embedding.dtype"
   ]
  },
  {
   "cell_type": "markdown",
   "metadata": {},
   "source": [
    "Remember to use the documents embedding engine for documents (in this case reviews), and query embedding engine for queries. Note that here we just compare the cosine similarity of the embeddings of the query and the documents, and show top_n best matches."
   ]
  },
  {
   "cell_type": "code",
   "execution_count": null,
   "metadata": {},
   "outputs": [],
   "source": [
    "from openai.embeddings_utils import get_embedding, cosine_similarity\n",
    "import openai\n",
    "openai.api_key = \"key\"\n",
    "\n",
    "\n",
    "# search through the reviews for a specific product\n",
    "def search_reviews(df, product_description, n=3, pprint=True):\n",
    "    product_embedding = get_embedding(\n",
    "        product_description,\n",
    "        engine=\"text-embedding-ada-002\"\n",
    "    )\n",
    "    df[\"similarity\"] = df.embedding.apply(lambda x: cosine_similarity(x, product_embedding))\n",
    "\n",
    "    results = (\n",
    "        df.sort_values(\"similarity\", ascending=False)\n",
    "        .head(n)\n",
    "    )\n",
    "    print(df.sort_values(\"similarity\", ascending=False).head(n))\n",
    "    if pprint:\n",
    "        for r in results:\n",
    "            print(r[:200])\n",
    "    return results\n"
   ]
  },
  {
   "cell_type": "code",
   "execution_count": null,
   "metadata": {},
   "outputs": [],
   "source": [
    "import joblib\n",
    "\n",
    "kmeans_model = joblib.load(\"villa_clustering_model.joblib\")\n"
   ]
  },
  {
   "cell_type": "code",
   "execution_count": null,
   "metadata": {},
   "outputs": [],
   "source": [
    "import pickle\n",
    "with open(\"villa_clustering_model.pkl\", \"rb\") as f:\n",
    "    kmeans_model = pickle.load(f)\n"
   ]
  },
  {
   "cell_type": "code",
   "execution_count": null,
   "metadata": {},
   "outputs": [
    {
     "ename": "AttributeError",
     "evalue": "'KMeans' object has no attribute '__all__'",
     "output_type": "error",
     "traceback": [
      "\u001b[0;31m---------------------------------------------------------------------------\u001b[0m",
      "\u001b[0;31mAttributeError\u001b[0m                            Traceback (most recent call last)",
      "Cell \u001b[0;32mIn[41], line 1\u001b[0m\n\u001b[0;32m----> 1\u001b[0m kmeans_model\u001b[39m.\u001b[39;49m__all__\n",
      "\u001b[0;31mAttributeError\u001b[0m: 'KMeans' object has no attribute '__all__'"
     ]
    }
   ],
   "source": [
    "kmeans_model"
   ]
  },
  {
   "cell_type": "code",
   "execution_count": null,
   "metadata": {},
   "outputs": [],
   "source": [
    "product_embedding = np.array(get_embedding(\n",
    "        \"sun warrior\",\n",
    "        engine=\"text-embedding-ada-002\"\n",
    "    )).reshape(1, -1)"
   ]
  },
  {
   "cell_type": "code",
   "execution_count": null,
   "metadata": {},
   "outputs": [
    {
     "data": {
      "text/plain": [
       "dtype('float64')"
      ]
     },
     "execution_count": null,
     "metadata": {},
     "output_type": "execute_result"
    }
   ],
   "source": [
    "product_embedding.dtype"
   ]
  },
  {
   "cell_type": "code",
   "execution_count": null,
   "metadata": {},
   "outputs": [
    {
     "data": {
      "text/plain": [
       "2"
      ]
     },
     "execution_count": null,
     "metadata": {},
     "output_type": "execute_result"
    }
   ],
   "source": [
    "cluster = kmeans_model.predict(product_embedding.astype(\"float32\")).item()\n",
    "cluster"
   ]
  },
  {
   "cell_type": "code",
   "execution_count": null,
   "metadata": {},
   "outputs": [
    {
     "name": "stdout",
     "output_type": "stream",
     "text": [
      "                                           embedding  cluster  similarity\n",
      "2  [-0.0028219079, -0.0105307195, 0.0041326457, -...        2    0.835098\n",
      "3  [0.00081198575, -0.010347571, -0.001964573, -0...        3    0.820642\n",
      "4  [-0.010866422, -0.0023932648, 0.0016940071, -0...        4    0.820241\n",
      "1  [-0.01243439, -0.012545745, 0.0036076137, -0.0...        1    0.810199\n",
      "0  [-0.003391798, -0.011681105, 0.0029432552, -0....        0    0.800552\n"
     ]
    }
   ],
   "source": [
    "results = search_reviews(df, \"sun warrior\", n=10, pprint=False)\n"
   ]
  },
  {
   "cell_type": "code",
   "execution_count": null,
   "metadata": {},
   "outputs": [
    {
     "name": "stdout",
     "output_type": "stream",
     "text": [
      "      index  cprcode                       pr_engname  \\\n",
      "4495  62836   159768                        CLUB SW/S   \n",
      "639    9061    29928       H W SUMBUCA 75 CL. HIRAN.W   \n",
      "3355  47106   216524               SACRED HILL SHIRAZ   \n",
      "1908  27529   210082                XANADU DJL SHIRAZ   \n",
      "3990  56214   233253                       HAKU VODKA   \n",
      "2666  38169   209247                  CH.  CHEVALIERS   \n",
      "4188  58886   216526                   STIMSOM MERLOT   \n",
      "3973  56000   248486  BUENA VISTA THE LEGENDARY BADGE   \n",
      "2714  38714   227890            SUNTORY HOROYOI WHITE   \n",
      "4524  63292   244947            MCW HANWOOD CAB.SAUVG   \n",
      "\n",
      "                                   pr_name  \\\n",
      "4495                             CLUB SW/S   \n",
      "639             H W SUMBUCA 75 CL. HIRAN.W   \n",
      "3355                    SACRED HILL SHIRAZ   \n",
      "1908                     XANADU DJL SHIRAZ   \n",
      "3990                    SUNTORY HAKU VODKA   \n",
      "2666                        CH. CHEVALIERS   \n",
      "4188                        STIMSOM MERLOT   \n",
      "3973  BUENA VISTA THE LEGENDARY BADGE750ML   \n",
      "2714            SUNTORY HOROYOI WHITE 35CL   \n",
      "4524                 MCW HANWOOD CAB.SAUVG   \n",
      "\n",
      "                                               combined  n_tokens  \\\n",
      "4495                                CLUB SW/S CLUB SW/S         7   \n",
      "639   H W SUMBUCA 75 CL. HIRAN.W H W SUMBUCA 75 CL. ...        26   \n",
      "3355              SACRED HILL SHIRAZ SACRED HILL SHIRAZ        15   \n",
      "1908                XANADU DJL SHIRAZ XANADU DJL SHIRAZ        18   \n",
      "3990                      HAKU VODKA SUNTORY HAKU VODKA        15   \n",
      "2666                     CH.  CHEVALIERS CH. CHEVALIERS        13   \n",
      "4188                      STIMSOM MERLOT STIMSOM MERLOT        10   \n",
      "3973  BUENA VISTA THE LEGENDARY BADGE BUENA VISTA TH...        22   \n",
      "2714   SUNTORY HOROYOI WHITE SUNTORY HOROYOI WHITE 35CL        19   \n",
      "4524        MCW HANWOOD CAB.SAUVG MCW HANWOOD CAB.SAUVG        20   \n",
      "\n",
      "                                              embedding  Cluster  similarity  \n",
      "4495  [-0.00657842, 0.002730989, 0.0072757667, -0.02...        3    0.790956  \n",
      "639   [0.0030553925, -0.0043465253, 0.0071263607, -0...        3    0.788955  \n",
      "3355  [0.00935063, -0.0044946107, -0.0016772653, -0....        3    0.787760  \n",
      "1908  [0.011894678, -0.0111079225, -0.017308623, -0....        3    0.787358  \n",
      "3990  [0.0078072376, -0.0070390957, -0.019402212, -0...        3    0.787088  \n",
      "2666  [-0.0026812614, 0.0001799087, -0.0013783708, -...        3    0.785178  \n",
      "4188  [-0.0075692274, -0.015600905, -0.019830968, -0...        3    0.784782  \n",
      "3973  [-0.024871718, 0.0036955304, -0.007929439, -0....        3    0.784729  \n",
      "2714  [0.008936428, -0.0054307547, -0.019858731, -0....        3    0.783648  \n",
      "4524  [-0.0108523555, -0.012500382, 0.006298059, -0....        3    0.782984  \n"
     ]
    }
   ],
   "source": [
    "df2 = feather.read_feather(\"cluster_3.feather\")\n",
    "results = search_reviews(df2, \"sun warrior\", n=10, pprint=False)\n"
   ]
  },
  {
   "cell_type": "code",
   "execution_count": null,
   "metadata": {},
   "outputs": [
    {
     "data": {
      "text/plain": [
       "30593                                      APRICOT APRICOT\n",
       "33249                      APRICOT LATTICE APRICOT LATTICE\n",
       "13215                      APRICOT LATTICE APRICOT LATTICE\n",
       "10111                      APRICOT LATTICE APRICOT LATTICE\n",
       "62877          APRICOT YELLOW IMPORT APRICOT YELLOW IMPORT\n",
       "                               ...                        \n",
       "23809                              GRAPE FRUIT GRAPE FRUIT\n",
       "29929                                KIWI PUREE KIWI PUREE\n",
       "52600    APPLE OURIN PRINT#36(JP) APPLE OURIN PRINT#36(JP)\n",
       "18653                                  HOT FRUIT HOT FRUIT\n",
       "15043                        AUS PEACH (WH) AUS PEACH (WH)\n",
       "Name: combined, Length: 100, dtype: object"
      ]
     },
     "execution_count": null,
     "metadata": {},
     "output_type": "execute_result"
    }
   ],
   "source": [
    "results"
   ]
  },
  {
   "cell_type": "code",
   "execution_count": null,
   "metadata": {},
   "outputs": [
    {
     "name": "stdout",
     "output_type": "stream",
     "text": [
      "WHOLE WHEAT CROISSANT AND OAT:  WHOLE WHEAT CROISSANT AND OAT\n",
      "\n",
      "SANREMO LINGUINE PASTA 500 G.:  SANREMO ลิงกวินี 500 กรัม\n",
      "\n",
      "VEGAN SANDWICH WHOLE WHEAT LOAF 360G:  วีแกนแซนด์วิชโฮลวีทโลฟ 360กรัม\n",
      "\n"
     ]
    }
   ],
   "source": [
    "results = search_reviews(df, \"whole wheat pasta\", n=3)"
   ]
  },
  {
   "cell_type": "markdown",
   "metadata": {},
   "source": [
    "We can search through these reviews easily. To speed up computation, we can use a special algorithm, aimed at faster search through embeddings."
   ]
  },
  {
   "cell_type": "markdown",
   "metadata": {},
   "source": [
    "As we can see, this can immediately deliver a lot of value. In this example we show being able to quickly find the examples of delivery failures."
   ]
  },
  {
   "cell_type": "code",
   "execution_count": null,
   "metadata": {},
   "outputs": [
    {
     "name": "stdout",
     "output_type": "stream",
     "text": [
      "       cprcode                             pr_engname  \\\n",
      "16862   237726  ORIJEN ORIGINAL BIOLOGICALLY DOG FOOD   \n",
      "65319   249574       DOGGA DOGA DRIED SALMON DOG FOOD   \n",
      "63914   248446           DOGSTER PLAY MIX TUNA+CARROT   \n",
      "\n",
      "                                            pr_name  \\\n",
      "16862    ORIJEN ORIGINAL BIOLOGICALLY DOG FOOD 340G   \n",
      "65319  ด็อกก้า ดูก้า เนื้อปลาแซลม่อนอบแห้ง ขนมสุนัข   \n",
      "63914                  DOGSTER PLAY MIX TUNA+CARROT   \n",
      "\n",
      "                                                combined  n_tokens  \\\n",
      "16862  ORIJEN ORIGINAL BIOLOGICALLY DOG FOOD ORIJEN O...        25   \n",
      "65319  DOGGA DOGA DRIED SALMON DOG FOOD ด็อกก้า ดูก้า...        55   \n",
      "63914  DOGSTER PLAY MIX TUNA+CARROT DOGSTER PLAY MIX ...        21   \n",
      "\n",
      "                                               embedding  similarity  \n",
      "16862  [0.011956698261201382, -0.018227148801088333, ...    0.856884  \n",
      "65319  [-0.009410101920366287, -0.00703136483207345, ...    0.856395  \n",
      "63914  [-0.019568517804145813, -0.013602837920188904,...    0.855617  \n",
      "ORIJEN ORIGINAL BIOLOGICALLY DOG FOOD ORIJEN ORIGINAL BIOLOGICALLY DOG FOOD 340G\n",
      "DOGGA DOGA DRIED SALMON DOG FOOD ด็อกก้า ดูก้า เนื้อปลาแซลม่อนอบแห้ง ขนมสุนัข\n",
      "DOGSTER PLAY MIX TUNA+CARROT DOGSTER PLAY MIX TUNA+CARROT\n"
     ]
    }
   ],
   "source": [
    "results = search_reviews(df, \"dog food\", n=3)"
   ]
  },
  {
   "cell_type": "code",
   "execution_count": null,
   "metadata": {},
   "outputs": [
    {
     "name": "stdout",
     "output_type": "stream",
     "text": [
      "WHISKAS POCKETS TUNA  1.2KG:  WHISKAS อาหารแมวชนิดเม็ด รสทูน่า 1.2 กก.\n",
      "\n",
      "ROYAL CANIN MINI ADULT 800G:  ROYAL CANIN MINI ADULT 800G\n",
      "\n"
     ]
    }
   ],
   "source": [
    "results = search_reviews(df, \"pet food\", n=2)"
   ]
  },
  {
   "cell_type": "code",
   "execution_count": null,
   "metadata": {},
   "outputs": [],
   "source": []
  }
 ],
 "metadata": {
  "kernelspec": {
   "display_name": "Python39",
   "language": "python",
   "name": "python3"
  }
 },
 "nbformat": 4,
 "nbformat_minor": 2
}
