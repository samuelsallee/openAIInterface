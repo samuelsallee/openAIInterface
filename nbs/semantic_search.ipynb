{
 "cells": [
  {
   "cell_type": "markdown",
   "metadata": {},
   "source": [
    "## Semantic text search using embeddings\n",
    "\n",
    "We can search through all our reviews semantically in a very efficient manner and at very low cost, by simply embedding our search query, and then finding the most similar reviews. The dataset is created in the [Obtain_dataset Notebook](Obtain_dataset.ipynb)."
   ]
  },
  {
   "cell_type": "code",
   "execution_count": 17,
   "metadata": {},
   "outputs": [],
   "source": [
    "import pandas as pd\n",
    "import numpy as np\n",
    "\n",
    "datafile_path = \"villa_database_with_embeddings.csv\"\n",
    "\n",
    "df = pd.read_csv(datafile_path)\n",
    "df[\"embedding\"] = df.embedding.apply(eval).apply(np.array)\n"
   ]
  },
  {
   "cell_type": "markdown",
   "metadata": {},
   "source": [
    "Remember to use the documents embedding engine for documents (in this case reviews), and query embedding engine for queries. Note that here we just compare the cosine similarity of the embeddings of the query and the documents, and show top_n best matches."
   ]
  },
  {
   "cell_type": "code",
   "execution_count": 1,
   "metadata": {},
   "outputs": [
    {
     "ename": "NameError",
     "evalue": "name 'df' is not defined",
     "output_type": "error",
     "traceback": [
      "\u001b[0;31m---------------------------------------------------------------------------\u001b[0m",
      "\u001b[0;31mNameError\u001b[0m                                 Traceback (most recent call last)",
      "Cell \u001b[0;32mIn[1], line 26\u001b[0m\n\u001b[1;32m     22\u001b[0m             \u001b[39mprint\u001b[39m()\n\u001b[1;32m     23\u001b[0m     \u001b[39mreturn\u001b[39;00m results\n\u001b[0;32m---> 26\u001b[0m results \u001b[39m=\u001b[39m search_reviews(df, \u001b[39m\"\u001b[39m\u001b[39mplease show me apricots\u001b[39m\u001b[39m\"\u001b[39m, n\u001b[39m=\u001b[39m\u001b[39m10\u001b[39m)\n",
      "\u001b[0;31mNameError\u001b[0m: name 'df' is not defined"
     ]
    }
   ],
   "source": [
    "from openai.embeddings_utils import get_embedding, cosine_similarity\n",
    "import openai\n",
    "openai.api_key = \"put your key here\"\n",
    "\n",
    "\n",
    "# search through the reviews for a specific product\n",
    "def search_reviews(df, product_description, n=3, pprint=True):\n",
    "    product_embedding = get_embedding(\n",
    "        product_description,\n",
    "        engine=\"text-embedding-ada-002\"\n",
    "    )\n",
    "    df[\"similarity\"] = df.embedding.apply(lambda x: cosine_similarity(x, product_embedding))\n",
    "\n",
    "    results = (\n",
    "        df.sort_values(\"similarity\", ascending=False)\n",
    "        .head(n)\n",
    "        .combined\n",
    "    )\n",
    "    if pprint:\n",
    "        for r in results:\n",
    "            print(r[:200])\n",
    "            print()\n",
    "    return results\n",
    "\n",
    "\n",
    "results = search_reviews(df, \"please show me apricots\", n=10)\n"
   ]
  },
  {
   "cell_type": "code",
   "execution_count": 20,
   "metadata": {},
   "outputs": [
    {
     "data": {
      "text/plain": [
       "30593                                      APRICOT APRICOT\n",
       "33249                      APRICOT LATTICE APRICOT LATTICE\n",
       "13215                      APRICOT LATTICE APRICOT LATTICE\n",
       "10111                      APRICOT LATTICE APRICOT LATTICE\n",
       "62877          APRICOT YELLOW IMPORT APRICOT YELLOW IMPORT\n",
       "                               ...                        \n",
       "23809                              GRAPE FRUIT GRAPE FRUIT\n",
       "29929                                KIWI PUREE KIWI PUREE\n",
       "52600    APPLE OURIN PRINT#36(JP) APPLE OURIN PRINT#36(JP)\n",
       "18653                                  HOT FRUIT HOT FRUIT\n",
       "15043                        AUS PEACH (WH) AUS PEACH (WH)\n",
       "Name: combined, Length: 100, dtype: object"
      ]
     },
     "execution_count": 20,
     "metadata": {},
     "output_type": "execute_result"
    }
   ],
   "source": [
    "results"
   ]
  },
  {
   "cell_type": "code",
   "execution_count": 8,
   "metadata": {},
   "outputs": [
    {
     "name": "stdout",
     "output_type": "stream",
     "text": [
      "WHOLE WHEAT CROISSANT AND OAT:  WHOLE WHEAT CROISSANT AND OAT\n",
      "\n",
      "SANREMO LINGUINE PASTA 500 G.:  SANREMO ลิงกวินี 500 กรัม\n",
      "\n",
      "VEGAN SANDWICH WHOLE WHEAT LOAF 360G:  วีแกนแซนด์วิชโฮลวีทโลฟ 360กรัม\n",
      "\n"
     ]
    }
   ],
   "source": [
    "results = search_reviews(df, \"whole wheat pasta\", n=3)"
   ]
  },
  {
   "cell_type": "markdown",
   "metadata": {},
   "source": [
    "We can search through these reviews easily. To speed up computation, we can use a special algorithm, aimed at faster search through embeddings."
   ]
  },
  {
   "cell_type": "code",
   "execution_count": 4,
   "metadata": {},
   "outputs": [
    {
     "name": "stdout",
     "output_type": "stream",
     "text": [
      "great product, poor delivery:  The coffee is excellent and I am a repeat buyer.  Problem this time was with the UPS delivery.  They left the box in front of my garage door in the middle of the drivewa\n",
      "\n"
     ]
    }
   ],
   "source": [
    "results = search_reviews(df, \"bad delivery\", n=1)"
   ]
  },
  {
   "cell_type": "markdown",
   "metadata": {},
   "source": [
    "As we can see, this can immediately deliver a lot of value. In this example we show being able to quickly find the examples of delivery failures."
   ]
  },
  {
   "cell_type": "code",
   "execution_count": 16,
   "metadata": {},
   "outputs": [
    {
     "name": "stdout",
     "output_type": "stream",
     "text": [
      "ROYAL CANIN MINI ADULT 800G:  ROYAL CANIN MINI ADULT 800G\n",
      "\n",
      "ROYAL CANIN MINI INDOOR ADULT 500G:  ROYAL CANIN MINI INDOOR ADULT 500G\n",
      "\n",
      "WHISKAS POCKETS TUNA  1.2KG:  WHISKAS อาหารแมวชนิดเม็ด รสทูน่า 1.2 กก.\n",
      "\n"
     ]
    }
   ],
   "source": [
    "results = search_reviews(df, \"canin pet food\", n=3)"
   ]
  },
  {
   "cell_type": "code",
   "execution_count": 9,
   "metadata": {},
   "outputs": [
    {
     "name": "stdout",
     "output_type": "stream",
     "text": [
      "WHISKAS POCKETS TUNA  1.2KG:  WHISKAS อาหารแมวชนิดเม็ด รสทูน่า 1.2 กก.\n",
      "\n",
      "ROYAL CANIN MINI ADULT 800G:  ROYAL CANIN MINI ADULT 800G\n",
      "\n"
     ]
    }
   ],
   "source": [
    "results = search_reviews(df, \"pet food\", n=2)"
   ]
  },
  {
   "cell_type": "code",
   "execution_count": null,
   "metadata": {},
   "outputs": [],
   "source": []
  }
 ],
 "metadata": {
  "kernelspec": {
   "display_name": "Python39",
   "language": "python",
   "name": "python3"
  },
  "language_info": {
   "codemirror_mode": {
    "name": "ipython",
    "version": 3
   },
   "file_extension": ".py",
   "mimetype": "text/x-python",
   "name": "python",
   "nbconvert_exporter": "python",
   "pygments_lexer": "ipython3",
   "version": "3.9.15"
  },
  "orig_nbformat": 4,
  "vscode": {
   "interpreter": {
    "hash": "729b0facafcf0f0ead774a85528f66b890c1791759e1537da0b7af21c0b7cbca"
   }
  }
 },
 "nbformat": 4,
 "nbformat_minor": 2
}
