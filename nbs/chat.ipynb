{
 "cells": [
  {
   "cell_type": "code",
   "execution_count": null,
   "metadata": {},
   "outputs": [],
   "source": [
    "# default_exp chat"
   ]
  },
  {
   "cell_type": "markdown",
   "metadata": {},
   "source": [
    "# get\n",
    "\n",
    "> API details."
   ]
  },
  {
   "cell_type": "code",
   "execution_count": 1,
   "metadata": {},
   "outputs": [],
   "source": [
    "#export\n",
    "import os, openai, requests\n",
    "from awsSchema.apigateway import Event, Response\n",
    "from copy import deepcopy\n",
    "from beartype import beartype\n",
    "from nicHelper.secrets import getSecret\n",
    "from openai import Completion"
   ]
  },
  {
   "cell_type": "code",
   "execution_count": 2,
   "metadata": {},
   "outputs": [],
   "source": [
    "#export\n",
    "class ParseInputError(Exception):\n",
    "    pass"
   ]
  },
  {
   "cell_type": "code",
   "execution_count": 17,
   "metadata": {},
   "outputs": [],
   "source": [
    "#export\n",
    "EventInput = dict\n",
    "\n",
    "@beartype\n",
    "def parseEvent(event):\n",
    "    eventCopy = deepcopy(event)\n",
    "    body = Event.parseBody(eventCopy)\n",
    "\n",
    "    try:\n",
    "        inputText = body['inputText']\n",
    "    except KeyError:\n",
    "        raise ParseInputError('inputText is not in body')\n",
    "    \n",
    "    return inputText\n",
    "\n",
    "@beartype\n",
    "def talkWithOpenAI(inputText: str)->str:\n",
    "    openai.api_key = getSecret('openai')['key']\n",
    "    r = Completion.create(engine=\"davinci\", prompt=inputText, max_tokens=100, temperature=0.2)\n",
    "    # headers = {\"Authorization\":f\"Bearer {api_key}\"}\n",
    "    # event = {\"model\": \"text-davinci-003\", \"prompt\": inputText, \"temperature\": 0.2, \"max_tokens\": 100}\n",
    "    # print('input text is', inputText)\n",
    "    # r = requests.post('https://api.openai.com/v1/completions', headers=headers, json=event)\n",
    "    print(\"r: \", r)\n",
    "\n",
    "    return r[\"choices\"][0][\"text\"]"
   ]
  },
  {
   "cell_type": "code",
   "execution_count": 18,
   "metadata": {},
   "outputs": [],
   "source": [
    "#export\n",
    "def chat(event, *args):\n",
    "    try:\n",
    "        inputText = parseEvent(event)\n",
    "        response = talkWithOpenAI(inputText)\n",
    "        return Response.returnSuccess(body = response)\n",
    "    except Exception as e:\n",
    "        return Response.returnError(message=str(e))"
   ]
  },
  {
   "cell_type": "code",
   "execution_count": 19,
   "metadata": {},
   "outputs": [
    {
     "name": "stdout",
     "output_type": "stream",
     "text": [
      "\n",
      " input is {'body': '{\"inputText\":\"Hello my name is sam. What is your favorite thinga about me?\"}', 'httpMethod': None, 'multiValueHeaders': None, 'multiValueQueryStringParameters': None, 'path': None, 'pathParameters': None, 'queryStringParameters': {}, 'requestContext': None, 'headers': {}, 'statusCode': 200, 'isBase64Encoded': False} \n",
      "\n",
      "r:  {\n",
      "  \"choices\": [\n",
      "    {\n",
      "      \"finish_reason\": \"length\",\n",
      "      \"index\": 0,\n",
      "      \"logprobs\": null,\n",
      "      \"text\": \"\\n\\nI love your eyes.\\n\\nI love your smile.\\n\\nI love your hair.\\n\\nI love your voice.\\n\\nI love your laugh.\\n\\nI love your personality.\\n\\nI love your body.\\n\\nI love your personality.\\n\\nI love your eyes.\\n\\nI love your smile.\\n\\nI love your hair.\\n\\nI love your voice.\\n\\nI love your laugh.\\n\\nI love your personality.\\n\\n\"\n",
      "    }\n",
      "  ],\n",
      "  \"created\": 1675752305,\n",
      "  \"id\": \"cmpl-6hC0v8LAkViXE9k2OVAidEL8OR2DV\",\n",
      "  \"model\": \"davinci\",\n",
      "  \"object\": \"text_completion\",\n",
      "  \"usage\": {\n",
      "    \"completion_tokens\": 100,\n",
      "    \"prompt_tokens\": 15,\n",
      "    \"total_tokens\": 115\n",
      "  }\n",
      "}\n",
      "body =  {'body': '\"\\\\n\\\\nI love your eyes.\\\\n\\\\nI love your smile.\\\\n\\\\nI love your hair.\\\\n\\\\nI love your voice.\\\\n\\\\nI love your laugh.\\\\n\\\\nI love your personality.\\\\n\\\\nI love your body.\\\\n\\\\nI love your personality.\\\\n\\\\nI love your eyes.\\\\n\\\\nI love your smile.\\\\n\\\\nI love your hair.\\\\n\\\\nI love your voice.\\\\n\\\\nI love your laugh.\\\\n\\\\nI love your personality.\\\\n\\\\n\"', 'statusCode': 200, 'headers': {'Access-Control-Allow-Headers': '*', 'Access-Control-Allow-Origin': '*', 'Access-Control-Allow-Methods': '*'}}\n"
     ]
    }
   ],
   "source": [
    "#hide\n",
    "import json\n",
    "inputSample = {\"inputText\": \"Hello my name is sam. What is your favorite thinga about me?\"}\n",
    "input_ = Event.getInput(inputSample)\n",
    "print(\"\\n input is\", input_, \"\\n\")\n",
    "x = chat(input_)\n",
    "print(\"body = \", x)"
   ]
  },
  {
   "cell_type": "code",
   "execution_count": null,
   "metadata": {},
   "outputs": [],
   "source": []
  }
 ],
 "metadata": {
  "kernelspec": {
   "display_name": "Python39",
   "language": "python",
   "name": "python3"
  },
  "language_info": {
   "codemirror_mode": {
    "name": "ipython",
    "version": 3
   },
   "file_extension": ".py",
   "mimetype": "text/x-python",
   "name": "python",
   "nbconvert_exporter": "python",
   "pygments_lexer": "ipython3",
   "version": "3.9.15"
  },
  "vscode": {
   "interpreter": {
    "hash": "729b0facafcf0f0ead774a85528f66b890c1791759e1537da0b7af21c0b7cbca"
   }
  }
 },
 "nbformat": 4,
 "nbformat_minor": 4
}
