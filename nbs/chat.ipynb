{
 "cells": [
  {
   "cell_type": "code",
   "execution_count": 1,
   "metadata": {},
   "outputs": [],
   "source": [
    "# default_exp chat"
   ]
  },
  {
   "cell_type": "markdown",
   "metadata": {},
   "source": [
    "# get\n",
    "\n",
    "> API details."
   ]
  },
  {
   "cell_type": "code",
   "execution_count": 2,
   "metadata": {},
   "outputs": [],
   "source": [
    "#export\n",
    "import os, openai\n",
    "from awsSchema.apigateway import Event, Response\n",
    "from copy import deepcopy\n",
    "from beartype import beartype\n",
    "from nicHelper.secrets import getSecret\n",
    "from openai import Completion"
   ]
  },
  {
   "cell_type": "code",
   "execution_count": 3,
   "metadata": {},
   "outputs": [],
   "source": [
    "#export\n",
    "class ParseInputError(Exception):\n",
    "    pass"
   ]
  },
  {
   "cell_type": "code",
   "execution_count": 4,
   "metadata": {},
   "outputs": [],
   "source": [
    "#export\n",
    "EventInput = dict\n",
    "\n",
    "@beartype\n",
    "def parseEvent(event):\n",
    "    eventCopy = deepcopy(event)\n",
    "    body = Event.parseBody(eventCopy)\n",
    "\n",
    "    try:\n",
    "        inputText = body['inputText']\n",
    "    except KeyError:\n",
    "        raise ParseInputError('inputText is not in body')\n",
    "    \n",
    "    return inputText\n",
    "\n",
    "@beartype\n",
    "def talkWithOpenAI(inputText: str)->str:\n",
    "    openai.api_key = getSecret('openai')['key']\n",
    "    r = Completion.create(engine=\"davinci\", prompt=inputText, max_tokens=100, temperature=0.2)\n",
    "    print(\"r: \", r)\n",
    "\n",
    "    return r[\"choices\"][0][\"text\"]"
   ]
  },
  {
   "cell_type": "code",
   "execution_count": 5,
   "metadata": {},
   "outputs": [],
   "source": [
    "#export\n",
    "def chat(event, *args):\n",
    "    try:\n",
    "        inputText = parseEvent(event)\n",
    "        response = talkWithOpenAI(inputText)\n",
    "        return Response.returnSuccess(body = response)\n",
    "    except Exception as e:\n",
    "        return Response.returnError(message=str(e))"
   ]
  },
  {
   "cell_type": "code",
   "execution_count": 6,
   "metadata": {},
   "outputs": [
    {
     "name": "stdout",
     "output_type": "stream",
     "text": [
      "\n",
      " input is {'body': '{\"inputText\":\"Hello my name is sam. What is your favorite thinga about me?\"}', 'httpMethod': None, 'multiValueHeaders': None, 'multiValueQueryStringParameters': None, 'path': None, 'pathParameters': None, 'queryStringParameters': {}, 'requestContext': None, 'headers': {}, 'statusCode': 200, 'isBase64Encoded': False} \n",
      "\n",
      "body =  {'body': '{\"error\":\"An error occurred (AccessDeniedException) when calling the GetSecretValue operation: User: arn:aws:iam::394922924679:user\\\\/tenxorSamuelCLIUser is not authorized to perform: secretsmanager:GetSecretValue on resource: openai because no identity-based policy allows the secretsmanager:GetSecretValue action\"}', 'statusCode': 400, 'headers': {'Access-Control-Allow-Headers': '*', 'Access-Control-Allow-Origin': '*', 'Access-Control-Allow-Methods': '*'}}\n"
     ]
    }
   ],
   "source": [
    "#hide\n",
    "import json\n",
    "inputSample = {\"inputText\": \"Hello my name is sam. What is your favorite thinga about me?\"}\n",
    "input_ = Event.getInput(inputSample)\n",
    "print(\"\\n input is\", input_, \"\\n\")\n",
    "x = chat(input_)\n",
    "print(\"body = \", x)"
   ]
  },
  {
   "cell_type": "code",
   "execution_count": null,
   "metadata": {},
   "outputs": [],
   "source": [
    "#hide\n"
   ]
  }
 ],
 "metadata": {
  "kernelspec": {
   "display_name": "Python39",
   "language": "python",
   "name": "python3"
  },
  "language_info": {
   "codemirror_mode": {
    "name": "ipython",
    "version": 3
   },
   "file_extension": ".py",
   "mimetype": "text/x-python",
   "name": "python",
   "nbconvert_exporter": "python",
   "pygments_lexer": "ipython3",
   "version": "3.9.15"
  },
  "vscode": {
   "interpreter": {
    "hash": "729b0facafcf0f0ead774a85528f66b890c1791759e1537da0b7af21c0b7cbca"
   }
  }
 },
 "nbformat": 4,
 "nbformat_minor": 4
}
