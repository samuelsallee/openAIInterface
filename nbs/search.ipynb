{
 "cells": [
  {
   "cell_type": "code",
   "execution_count": null,
   "metadata": {},
   "outputs": [],
   "source": [
    "# default_exp search"
   ]
  },
  {
   "cell_type": "markdown",
   "metadata": {},
   "source": [
    "# search\n",
    "\n",
    "> API details."
   ]
  },
  {
   "cell_type": "code",
   "execution_count": null,
   "metadata": {},
   "outputs": [],
   "source": [
    "#hide\n",
    "from nbdev.showdoc import *\n",
    "import src.setEnv as _\n",
    "from nicHelper.dictUtil import genSchema\n",
    "import yaml\n",
    "import os\n",
    "# os.environ['BRANCH'] = 'master'"
   ]
  },
  {
   "cell_type": "code",
   "execution_count": null,
   "metadata": {},
   "outputs": [
    {
     "name": "stdout",
     "output_type": "stream",
     "text": [
      "github token is ****************************************\n"
     ]
    }
   ],
   "source": [
    "#export\n",
    "from src.getEnv import *\n",
    "from src.getConfig import getConfig\n",
    "from sentry_sdk.integrations.aws_lambda import AwsLambdaIntegration\n",
    "from sentry_sdk import add_breadcrumb, capture_exception\n",
    "from awsSchema.apigateway import Response, Event, Headers\n",
    "from beartype import beartype\n",
    "from diskcache import Cache\n",
    "from datetime import datetime\n",
    "import boto3, sentry_sdk, json"
   ]
  },
  {
   "cell_type": "markdown",
   "metadata": {},
   "source": [
    "## init sentry"
   ]
  },
  {
   "cell_type": "code",
   "execution_count": null,
   "metadata": {},
   "outputs": [],
   "source": [
    "#export\n",
    "sentry_sdk.init(\n",
    "    dsn=\"https://3523e6e8c5e14d33bbc9f64965af96c1@o839457.ingest.sentry.io/5862083\",\n",
    "    integrations=[AwsLambdaIntegration()]\n",
    "  )\n",
    "\n",
    "def logSearch(message:str, data:(list,dict)):\n",
    "  add_breadcrumb(\n",
    "    category='search',\n",
    "    data=data,\n",
    "    level='info',\n",
    "    message=message\n",
    "  )\n",
    "def logValidation(message:str, data:(list,dict)):\n",
    "  add_breadcrumb(\n",
    "    category='validation',\n",
    "    data=data,\n",
    "    level='info',\n",
    "    message=message\n",
    "  )\n",
    "def logTransform(message:str, data:(list,dict)):\n",
    "  add_breadcrumb(\n",
    "    category='transformation',\n",
    "    data=data,\n",
    "    level='info',\n",
    "    message=message\n",
    "  )\n",
    "def logConfig(message:str, data:(list,dict)):\n",
    "  add_breadcrumb(\n",
    "    category='loadingConfig',\n",
    "    data=data,\n",
    "    level='info',\n",
    "    message=message\n",
    "  )\n",
    "def logParseResult(message:str, data:(list,dict)):\n",
    "  add_breadcrumb(\n",
    "    category='parseResult',\n",
    "    data=data,\n",
    "    level='info',\n",
    "    message=message\n",
    "  )"
   ]
  },
  {
   "cell_type": "code",
   "execution_count": null,
   "metadata": {},
   "outputs": [],
   "source": [
    "#export\n",
    "class ResponseParsingError(Exception):\n",
    "  pass\n",
    "\n",
    "class QueryParsingError(Exception):\n",
    "  pass\n",
    "\n",
    "class ConfigLoadingError(Exception):\n",
    "  pass\n",
    "\n",
    "class SearchError(Exception):\n",
    "  pass"
   ]
  },
  {
   "cell_type": "code",
   "execution_count": null,
   "metadata": {},
   "outputs": [],
   "source": [
    "#export\n",
    "cache:Cache = Cache('/tmp/')\n",
    "  \n",
    "@beartype\n",
    "@cache.memoize(tag='search',expire=900)\n",
    "def search(query:str, config:dict, fuzzyAmount = 0)->dict:\n",
    "  client = boto3.client('cloudsearchdomain', endpoint_url=SEARCHENDPOINT)\n",
    "  \n",
    "  #log\n",
    "  logSearch('searching at the following config', {'query':query, 'config':config, 'endpoint': SEARCHENDPOINT})\n",
    "  \n",
    "  fuzzySuffix = f'~{fuzzyAmount}' if fuzzyAmount else \"\"\n",
    "  \n",
    "  response = client.search(\n",
    "    query = query + fuzzySuffix,\n",
    "    **config\n",
    "    )\n",
    "  logSearch('searchResponse: ', response)\n",
    "  return response"
   ]
  },
  {
   "cell_type": "code",
   "execution_count": null,
   "metadata": {},
   "outputs": [],
   "source": [
    "#export\n",
    "def lambdaSearch(event, *args):\n",
    "  ## get query\n",
    "  try:\n",
    "    logValidation('parsing query', event)\n",
    "    query = Event.parseQuery(event)['query']\n",
    "    logValidation('parsing success', {'query':query})\n",
    "  except KeyError as e:\n",
    "    capture_exception(QueryParsingError(e))\n",
    "    return Response.returnError(f'missing or wrong parameters \\n{e}')\n",
    "  except Exception as e:\n",
    "    capture_exception(QueryParsingError(e))\n",
    "    return Response.returnError(f'unknown error while parsing queryparam \\n {e}')\n",
    "  \n",
    "  try:\n",
    "    logConfig('loading config', {})\n",
    "    config = getConfig()\n",
    "    logConfig('config loaded', config)\n",
    "  except Exception as e:\n",
    "    capture_exception(ConfigLoadingError(e))\n",
    "    return Response.returnError(f'unable to get config {e}')\n",
    "  \n",
    "  try:\n",
    "    response = search(query=query, config=config)\n",
    "  except Exception as e:\n",
    "    capture_exception(SearchError(e))\n",
    "    return Response.returnError(f'''\n",
    "      error while searching, please check if config is correct, \n",
    "      dont forget to invalidate after updating config {e}\n",
    "      ''')\n",
    "  \n",
    "  try:\n",
    "    logParseResult('parsing result', response)\n",
    "    results = response['hits']['hit']\n",
    "    logParseResult('result hits', results)\n",
    "    fields = [result['fields'] for result in results]\n",
    "    logParseResult('fields', fields)\n",
    "    filteredFields = [{'cprcode': int(field['cprcode'][0]), 'pr_engname': field['pr_engname'][0] } for field in fields]\n",
    "    logParseResult('filtered fields', filteredFields)\n",
    "    return Response.returnSuccess(filteredFields)\n",
    "  \n",
    "  except Exception as e:\n",
    "    capture_exception(ResponseParsingError(e))\n",
    "    return Response.returnError(f'parsing result error, plz contact developer {datetime.now().timestamp()}')\n",
    "  \n",
    "\n",
    "\n"
   ]
  },
  {
   "cell_type": "code",
   "execution_count": null,
   "metadata": {},
   "outputs": [
    {
     "name": "stdout",
     "output_type": "stream",
     "text": [
      "CPU times: user 48.9 ms, sys: 10.9 ms, total: 59.8 ms\n",
      "Wall time: 414 ms\n",
      "20.5 ms ± 1.3 ms per loop (mean ± std. dev. of 7 runs, 10 loops each)\n",
      "- cprcode: 66134\n",
      "  pr_engname: WENNEKER STRAWBERRY 70 CL.\n",
      "- cprcode: 61482\n",
      "  pr_engname: JELLO STRAWBERRY 85 G.\n",
      "- cprcode: 146557\n",
      "  pr_engname: MARKENBURG STRAWBERRT 80 G.\n",
      "- cprcode: 60225\n",
      "  pr_engname: STUTE STRAWBERRY JAM 430 G.\n",
      "- cprcode: 183608\n",
      "  pr_engname: KOOL-AID STRAWBERRY  3.9 G.\n",
      "- cprcode: 244281\n",
      "  pr_engname: GIGGLES STRAWBERRY1-6YEARS\n",
      "- cprcode: 99337\n",
      "  pr_engname: DARBO ERDBEERE STRAWBERRY 70%FRUIT 200g\n",
      "- cprcode: 202378\n",
      "  pr_engname: REKORDERLIG STRAWBERRY & LIME\n",
      "- cprcode: 183607\n",
      "  pr_engname: KOOL-AID STRAWBERRY KIWI 4.8 G\n",
      "- cprcode: 209696\n",
      "  pr_engname: VOLA TWIZT(STRAWBERRY+LNCHEE)275ML\n",
      "\n"
     ]
    }
   ],
   "source": [
    "cache.clear()\n",
    "%time r = lambdaSearch(Event.getInput(queryStringParameters={'query': 'strawberry'}))\n",
    "%timeit r = lambdaSearch(Event.getInput(queryStringParameters={'query': 'strawberry'}))\n",
    "r = lambdaSearch(Event.getInput(queryStringParameters={'query': 'strawberry'}))\n",
    "if r['statusCode'] >=400:\n",
    "  print(Response.parseBody(r.copy()))\n",
    "print(yaml.dump(Response.parseBody(r.copy())[:10]))"
   ]
  },
  {
   "cell_type": "code",
   "execution_count": null,
   "metadata": {},
   "outputs": [],
   "source": [
    "def testSearch(term:str):\n",
    "  input_ = Event.getInput(queryStringParameters={'query': term})\n",
    "  r = Response.parseBody(lambdaSearch(input_))\n",
    "  return yaml.dump(r)"
   ]
  },
  {
   "cell_type": "code",
   "execution_count": null,
   "metadata": {},
   "outputs": [
    {
     "name": "stdout",
     "output_type": "stream",
     "text": [
      "- cprcode: 239840\n",
      "  pr_engname: WW SELECT UNSWEETENED ALMOND MILK 1L\n",
      "- cprcode: 239842\n",
      "  pr_engname: WW FREE FROM GLUTEN GINGERNUT BISCUIT 15\n",
      "- cprcode: 239847\n",
      "  pr_engname: WW FREE FROM GLUTEN BREADCRUMBS 350G\n",
      "- cprcode: 239841\n",
      "  pr_engname: WW FREE FROM DOUBLE  CHOC BISCUIT 160G\n",
      "- cprcode: 239844\n",
      "  pr_engname: WW FREE FROM CREME  CHOC BISCUITS 120G\n",
      "- cprcode: 239845\n",
      "  pr_engname: WW FREE FROM GLUTEN CHOCOLATE CHIP BISCU\n",
      "- cprcode: 239843\n",
      "  pr_engname: WW FREE FROM MINT  CREME BISCUIT 145G\n",
      "- cprcode: 235229\n",
      "  pr_engname: WW SNACKES 150 G.\n",
      "- cprcode: 235235\n",
      "  pr_engname: WW SECRET BURGER SAUCE 330 ML.\n",
      "- cprcode: 235259\n",
      "  pr_engname: WW SCOTCH FINGER 250 G.\n",
      "- cprcode: 235231\n",
      "  pr_engname: WW CROWN MINTS 225 G.\n",
      "- cprcode: 235252\n",
      "  pr_engname: WW JUICE LIME 250 ML.\n",
      "- cprcode: 235250\n",
      "  pr_engname: WW PARTY MIX 150 G.\n",
      "- cprcode: 236758\n",
      "  pr_engname: WW  LEMON JUICE 250 ML.\n",
      "- cprcode: 235238\n",
      "  pr_engname: WW SAUCE TOMATO SQUEEZE 500 ML.\n",
      "- cprcode: 235232\n",
      "  pr_engname: WW EXTRA STRONG MINTS 225 G.\n",
      "- cprcode: 235246\n",
      "  pr_engname: WW CHICKEN SNACK BLASTS 200 G.\n",
      "- cprcode: 235243\n",
      "  pr_engname: WW ORIGINAL CRACKER SNAPZ 250 G.\n",
      "- cprcode: 235258\n",
      "  pr_engname: WW PLAIN WATER CRACKERS 125 G.\n",
      "- cprcode: 235260\n",
      "  pr_engname: WW CRACKED PEPPER WATER CRACKERS 125 G.\n",
      "- cprcode: 241740\n",
      "  pr_engname: WW ESSENTIALS PLAIN FLOUR 1 KG.\n",
      "- cprcode: 241741\n",
      "  pr_engname: WW ESSENTIALS SELF RAISING FLOUR 1 KG.\n",
      "- cprcode: 244702\n",
      "  pr_engname: WW SOY MILK 1 L.\n",
      "- cprcode: 239848\n",
      "  pr_engname: WW HICKORY SMOKED   ALMONDS 200G\n",
      "- cprcode: 248694\n",
      "  pr_engname: WW JELLY BEAN 320 G.\n",
      "- cprcode: 248440\n",
      "  pr_engname: WW DECAF COFFEE CAPSULES NESPRESSO 56 G.\n",
      "- cprcode: 248441\n",
      "  pr_engname: WW STRONG COFFEE CAPSULES NESPRESSO 56 G\n",
      "- cprcode: 239839\n",
      "  pr_engname: MACRO ORGANIC ALMOND MILK\n",
      "- cprcode: 239855\n",
      "  pr_engname: MACRO NATURAL CASHEW SPREAD 250\n",
      "- cprcode: 239854\n",
      "  pr_engname: MACRO NATURAL ALMOND SPREAD 250G\n",
      "- cprcode: 239838\n",
      "  pr_engname: MACRO ORGANIC RICE MILK 1L\n",
      "- cprcode: 239849\n",
      "  pr_engname: MACRO ORGANIC  WHOLE EGG MAYONNAISE 440G\n",
      "- cprcode: 239853\n",
      "  pr_engname: MACRO ORGANIC HULLED TAHINI SPREAD 375G\n",
      "- cprcode: 239850\n",
      "  pr_engname: MACRO ORGANIC SMOOTHPEANUT BUTTER 375G\n",
      "- cprcode: 239851\n",
      "  pr_engname: MACRO ORGANIC CRUNCHPEANUT BUTTER 375G\n",
      "- cprcode: 239852\n",
      "  pr_engname: MACRO ORGANIC UNHULLED TAHINI SPREAD 375\n",
      "\n"
     ]
    }
   ],
   "source": [
    "print(testSearch('woolworth'))"
   ]
  },
  {
   "cell_type": "code",
   "execution_count": null,
   "metadata": {},
   "outputs": [
    {
     "data": {
      "text/plain": [
       "{'returnFields': 'cprcode,pr_engname', 'size': 100}"
      ]
     },
     "execution_count": null,
     "metadata": {},
     "output_type": "execute_result"
    }
   ],
   "source": [
    "getConfig()"
   ]
  },
  {
   "cell_type": "code",
   "execution_count": null,
   "metadata": {},
   "outputs": [],
   "source": []
  },
  {
   "cell_type": "code",
   "execution_count": null,
   "metadata": {},
   "outputs": [
    {
     "data": {
      "text/plain": [
       "{'returnFields': 'cprcode,pr_engname', 'size': 100}"
      ]
     },
     "execution_count": null,
     "metadata": {},
     "output_type": "execute_result"
    }
   ],
   "source": [
    "getConfig()"
   ]
  },
  {
   "cell_type": "code",
   "execution_count": null,
   "metadata": {},
   "outputs": [
    {
     "data": {
      "text/plain": [
       "[{'id': '226238', 'fields': {'pr_engname': ['BANANA'], 'cprcode': ['226238']}},\n",
       " {'id': '203812',\n",
       "  'fields': {'pr_engname': ['BANANA PUFF'], 'cprcode': ['203812']}},\n",
       " {'id': '167300',\n",
       "  'fields': {'pr_engname': ['BANANA RAISIN'], 'cprcode': ['167300']}},\n",
       " {'id': '167023',\n",
       "  'fields': {'pr_engname': ['BANANA CAKE'], 'cprcode': ['167023']}},\n",
       " {'id': '223897',\n",
       "  'fields': {'pr_engname': ['AMBROSIA BANABA CUSTARD POT 150G.'],\n",
       "   'cprcode': ['223897']}},\n",
       " {'id': '132329',\n",
       "  'fields': {'pr_engname': ['SHAKER BANANA 70 CL.'], 'cprcode': ['132329']}},\n",
       " {'id': '102838',\n",
       "  'fields': {'pr_engname': ['Banana Boat Aloe Vera Gel 453gm'],\n",
       "   'cprcode': ['102838']}},\n",
       " {'id': '232576',\n",
       "  'fields': {'pr_engname': ['SMOOTHIE BERRY BANANA'], 'cprcode': ['232576']}},\n",
       " {'id': '232566',\n",
       "  'fields': {'pr_engname': ['FRAPPE CHOX BANANA'], 'cprcode': ['232566']}},\n",
       " {'id': '102833',\n",
       "  'fields': {'pr_engname': ['BANANA BOAT SUN PROTECTION SPF50 118 ML'],\n",
       "   'cprcode': ['102833']}}]"
      ]
     },
     "execution_count": null,
     "metadata": {},
     "output_type": "execute_result"
    }
   ],
   "source": [
    "query = 'banana'\n",
    "config = {'returnFields':'cprcode,pr_engname'}\n",
    "r = search(query,config)\n",
    "results = r['hits']['hit']\n",
    "results\n",
    "# fields = [result['fields'] for result in results]\n",
    "# filteredFields = [{'cprcode': int(field['cprcode'][0]), 'pr_engname': field['pr_engname'][0] } for field in fields]\n",
    "# filteredFields"
   ]
  },
  {
   "cell_type": "code",
   "execution_count": null,
   "metadata": {},
   "outputs": [],
   "source": []
  }
 ],
 "metadata": {
  "kernelspec": {
   "display_name": "Python 3",
   "language": "python",
   "name": "python3"
  },
  "language_info": {
   "name": "python",
   "version": "3.10.6"
  },
  "vscode": {
   "interpreter": {
    "hash": "916dbcbb3f70747c44a77c7bcd40155683ae19c65e1c03b4aa3499c5328201f1"
   }
  }
 },
 "nbformat": 4,
 "nbformat_minor": 4
}
