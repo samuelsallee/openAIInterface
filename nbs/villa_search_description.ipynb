{
 "cells": [
  {
   "cell_type": "code",
   "execution_count": 3,
   "metadata": {},
   "outputs": [],
   "source": [
    "import openai\n",
    "from openai.error import RateLimitError\n",
    "import pandas as pd\n",
    "from googletrans import Translator\n",
    "from nicHelper.secrets import getSecret\n",
    "from diskcache import Cache\n"
   ]
  },
  {
   "attachments": {},
   "cell_type": "markdown",
   "metadata": {},
   "source": [
    "# Villa search seo and description"
   ]
  },
  {
   "attachments": {},
   "cell_type": "markdown",
   "metadata": {},
   "source": [
    "## create current key and cache global variable"
   ]
  },
  {
   "cell_type": "code",
   "execution_count": 6,
   "metadata": {},
   "outputs": [],
   "source": [
    "\n",
    "# init current key\n",
    "CURRENT_KEY = 0\n",
    "#init cache\n",
    "cache = Cache(directory='/tmp/')\n",
    "#init data\n",
    "df = pd.read_csv('../data/database_with_description.csv')"
   ]
  },
  {
   "attachments": {},
   "cell_type": "markdown",
   "metadata": {},
   "source": [
    "## Translation helper"
   ]
  },
  {
   "cell_type": "code",
   "execution_count": 7,
   "metadata": {},
   "outputs": [],
   "source": [
    "@cache.memoize(tag='translateCache')\n",
    "def translate(text):\n",
    "    '''translate from thai to english'''\n",
    "    if not text: return ''\n",
    "    translator = Translator()\n",
    "    return translator.translate(text, dest='en').text"
   ]
  },
  {
   "attachments": {},
   "cell_type": "markdown",
   "metadata": {},
   "source": [
    "## Drop unused column"
   ]
  },
  {
   "cell_type": "code",
   "execution_count": 55,
   "metadata": {},
   "outputs": [],
   "source": [
    "def dropUnusedColumn(df)->pd.DataFrame:\n",
    "    df1 = df.drop(['iprcode', 'oprcode', 'ordertype','pr_cgcode', 'pr_dpcode','pr_ggcode','pr_sa_method','pr_sucode1',\n",
    "        'pr_suref3','prtype','pstype','depth','product_attribute_id', 'pr_country_th','warehouse','consign_inv','product_attribute_images',\n",
    "        'related_products',\t'enabled',\t'preorder_delivery_type',\t'preorder_fix_date',\t'preorder_relative_day',\t'priority_score','plu_no',\t'sort_cat_sku',\n",
    "        'avail_nationwide',\t'portion_size',\t'portion','weight',\t'psqty',\t'pr_use_original_img',\t'max_qty_in_cart','height',\t'width','dept',\n",
    "        'sort_weight', 'master_online', 'salemode_unit', 'ba_nprice', 'sort_villa_sku','pr_abb','pr_name', 'pr_market','hema_sizedesc','pr_barcode', 'pr_barcode2',\n",
    "        'pr_brand_th',\n",
    "        ], axis=1)\n",
    "    return df1\n"
   ]
  },
  {
   "attachments": {},
   "cell_type": "markdown",
   "metadata": {},
   "source": [
    "## Init df1 after dropping columns"
   ]
  },
  {
   "cell_type": "code",
   "execution_count": 9,
   "metadata": {},
   "outputs": [
    {
     "data": {
      "text/plain": [
       "Index(['cprcode', 'pr_active', 'pr_engname', 'pr_country_en', 'pr_keyword_th',\n",
       "       'pr_keyword_en', 'pr_filter_th', 'pr_filter_en',\n",
       "       'online_category_l1_th', 'online_category_l1_en',\n",
       "       'online_category_l2_th', 'online_category_l2_en',\n",
       "       'online_category_l3_th', 'online_category_l3_en',\n",
       "       'villa_category_l1_en', 'villa_category_l2_en', 'villa_category_l3_en',\n",
       "       'villa_category_l4_en', 'content_en', 'content_th', 'hema_brand_th',\n",
       "       'hema_brand_en', 'pr_brand_en', 'pr_online_name_en',\n",
       "       'pr_online_name_th', 'hema_name_en', 'hema_name_th', 'pr_name_en',\n",
       "       'pr_name_th', 'product_detail_description', 'avail_store',\n",
       "       'shipping_type', 'meta_title', 'meta_keywords', 'meta_description',\n",
       "       'product_attribute'],\n",
       "      dtype='object')"
      ]
     },
     "execution_count": 9,
     "metadata": {},
     "output_type": "execute_result"
    }
   ],
   "source": [
    "df1 = dropUnusedColumn(df)\n",
    "df1.head().columns"
   ]
  },
  {
   "attachments": {},
   "cell_type": "markdown",
   "metadata": {},
   "source": [
    "## translate all the thai columns and remove the original"
   ]
  },
  {
   "cell_type": "code",
   "execution_count": 10,
   "metadata": {},
   "outputs": [],
   "source": [
    "df1['translated_keyword'] = df1.pr_keyword_th.apply(translate)\n",
    "df1['translated_name1'] = df1.pr_name_th.apply(translate)\n",
    "df1['translated_name2'] = df1.hema_name_th.apply(translate)\n",
    "df1['translated_name3'] = df1.pr_online_name_th.apply(translate)\n",
    "df1['translated_content'] = df1.content_th.apply(translate)\n",
    "df1 = df1.drop(['pr_keyword_th', 'pr_name_th', 'hema_name_th', 'pr_online_name_th','content_th', 'hema_brand_th',], axis=1)"
   ]
  },
  {
   "attachments": {},
   "cell_type": "markdown",
   "metadata": {},
   "source": [
    "## patch na with \"\""
   ]
  },
  {
   "cell_type": "code",
   "execution_count": 11,
   "metadata": {},
   "outputs": [
    {
     "data": {
      "text/html": [
       "<div>\n",
       "<style scoped>\n",
       "    .dataframe tbody tr th:only-of-type {\n",
       "        vertical-align: middle;\n",
       "    }\n",
       "\n",
       "    .dataframe tbody tr th {\n",
       "        vertical-align: top;\n",
       "    }\n",
       "\n",
       "    .dataframe thead th {\n",
       "        text-align: right;\n",
       "    }\n",
       "</style>\n",
       "<table border=\"1\" class=\"dataframe\">\n",
       "  <thead>\n",
       "    <tr style=\"text-align: right;\">\n",
       "      <th></th>\n",
       "      <th>translated_keyword</th>\n",
       "      <th>translated_name1</th>\n",
       "      <th>translated_name2</th>\n",
       "      <th>translated_name3</th>\n",
       "    </tr>\n",
       "  </thead>\n",
       "  <tbody>\n",
       "    <tr>\n",
       "      <th>0</th>\n",
       "      <td>Into</td>\n",
       "      <td>Invade the Romoku brand</td>\n",
       "      <td>Invade the Romoku brand</td>\n",
       "      <td>Invade the Romoku brand</td>\n",
       "    </tr>\n",
       "    <tr>\n",
       "      <th>1</th>\n",
       "      <td>Into</td>\n",
       "      <td>Boom Kochu Jung, Korean spicy sauce</td>\n",
       "      <td>Into</td>\n",
       "      <td>Bumilgochogang</td>\n",
       "    </tr>\n",
       "    <tr>\n",
       "      <th>2</th>\n",
       "      <td>Into</td>\n",
       "      <td>Quality Vegetable White Shiji Mushroom</td>\n",
       "      <td>Quality Vegetable White Shiji Mushroom</td>\n",
       "      <td>Quality Vegetable White Shiji Mushroom</td>\n",
       "    </tr>\n",
       "    <tr>\n",
       "      <th>3</th>\n",
       "      <td>Into</td>\n",
       "      <td>Mare apricot jam 430 G.</td>\n",
       "      <td>Apricot Jam</td>\n",
       "      <td>Mare apricot jam 430g</td>\n",
       "    </tr>\n",
       "    <tr>\n",
       "      <th>4</th>\n",
       "      <td>Into</td>\n",
       "      <td>Colgate, Total Charcoal, Clean 150 grams</td>\n",
       "      <td>Total Charcoal Deep Clean</td>\n",
       "      <td>Colgate Total Charcoal Deep Clean  150g</td>\n",
       "    </tr>\n",
       "  </tbody>\n",
       "</table>\n",
       "</div>"
      ],
      "text/plain": [
       "  translated_keyword                          translated_name1  \\\n",
       "0               Into                   Invade the Romoku brand   \n",
       "1               Into       Boom Kochu Jung, Korean spicy sauce   \n",
       "2               Into    Quality Vegetable White Shiji Mushroom   \n",
       "3               Into                   Mare apricot jam 430 G.   \n",
       "4               Into  Colgate, Total Charcoal, Clean 150 grams   \n",
       "\n",
       "                         translated_name2  \\\n",
       "0                 Invade the Romoku brand   \n",
       "1                                    Into   \n",
       "2  Quality Vegetable White Shiji Mushroom   \n",
       "3                             Apricot Jam   \n",
       "4               Total Charcoal Deep Clean   \n",
       "\n",
       "                          translated_name3  \n",
       "0                  Invade the Romoku brand  \n",
       "1                           Bumilgochogang  \n",
       "2   Quality Vegetable White Shiji Mushroom  \n",
       "3                    Mare apricot jam 430g  \n",
       "4  Colgate Total Charcoal Deep Clean  150g  "
      ]
     },
     "execution_count": 11,
     "metadata": {},
     "output_type": "execute_result"
    }
   ],
   "source": [
    "df1.fillna('', inplace=True)\n",
    "df1[['translated_keyword', 'translated_name1', 'translated_name2', 'translated_name3']].head()"
   ]
  },
  {
   "attachments": {},
   "cell_type": "markdown",
   "metadata": {},
   "source": [
    "## Run Openai"
   ]
  },
  {
   "attachments": {},
   "cell_type": "markdown",
   "metadata": {},
   "source": [
    "### create inputText for openai (for description generation)"
   ]
  },
  {
   "cell_type": "code",
   "execution_count": 41,
   "metadata": {},
   "outputs": [
    {
     "data": {
      "text/plain": [
       "0     create an approximately 200 words product desc...\n",
       "1     create an approximately 200 words product desc...\n",
       "2     create an approximately 200 words product desc...\n",
       "3     create an approximately 200 words product desc...\n",
       "4     create an approximately 200 words product desc...\n",
       "                            ...                        \n",
       "95    create an approximately 200 words product desc...\n",
       "96    create an approximately 200 words product desc...\n",
       "97    create an approximately 200 words product desc...\n",
       "98    create an approximately 200 words product desc...\n",
       "99    create an approximately 200 words product desc...\n",
       "Name: inputText, Length: 100, dtype: object"
      ]
     },
     "execution_count": 41,
     "metadata": {},
     "output_type": "execute_result"
    }
   ],
   "source": [
    "df1['inputText'] = df1.apply(lambda x: f'create an approximately 200 words product description to put on a website here are some information about the product, \\\n",
    "                             please include some as appropriate, you dont need to include all the names, it is there only to give more context to the product.\\\n",
    "                              Here is the product info \\n\\\n",
    "                           product name: {x.pr_engname}\\n, alternative name:{x.hema_name_en}\\n, alternative name2:{x.pr_online_name_en}\\n, \\\n",
    "                            translated name: {x.translated_name1}]n \\\n",
    "                            translated alternative name: {x.translated_name2}\\n translated alternative name 2: {x.translated_name3}\\n\\\n",
    "                            product country {x.pr_country_en}\\n product keywords are {x.pr_keyword_en + x.translated_keyword + x.pr_filter_en + x.pr_filter_th}\\n \\\n",
    "                            product categories are {\",\".join( (x.online_category_l1_en , x.online_category_l2_en , x.online_category_l3_en, x.villa_category_l1_en, x.villa_category_l2_en, x.villa_category_l3_en,x.villa_category_l4_en))}\\n\\\n",
    "                            product contents are {x.content_en + x.translated_content + x.product_detail_description}\\n\\\n",
    "                            product metas are {x.meta_title + x.meta_keywords + x.meta_description}\\n\\\n",
    "                            product brand is {x.pr_brand_en}\\n\\\n",
    "                             '\n",
    "                            , axis=1)\n",
    "df1.inputText"
   ]
  },
  {
   "attachments": {},
   "cell_type": "markdown",
   "metadata": {},
   "source": [
    "### create inputText for openai (for seo generation)"
   ]
  },
  {
   "cell_type": "code",
   "execution_count": 50,
   "metadata": {},
   "outputs": [
    {
     "data": {
      "text/plain": [
       "0     please make a seo tag for this product, includ...\n",
       "1     please make a seo tag for this product, includ...\n",
       "2     please make a seo tag for this product, includ...\n",
       "3     please make a seo tag for this product, includ...\n",
       "4     please make a seo tag for this product, includ...\n",
       "                            ...                        \n",
       "95    please make a seo tag for this product, includ...\n",
       "96    please make a seo tag for this product, includ...\n",
       "97    please make a seo tag for this product, includ...\n",
       "98    please make a seo tag for this product, includ...\n",
       "99    please make a seo tag for this product, includ...\n",
       "Name: seoInputText, Length: 100, dtype: object"
      ]
     },
     "execution_count": 50,
     "metadata": {},
     "output_type": "execute_result"
    }
   ],
   "source": [
    "\n",
    "df1['seoInputText'] = df1.apply(lambda x: f'please make a seo tag for this product, including 200 words description include the title and meta tag\\n\\\n",
    "                           product name: {x.pr_engname}\\n, alternative name:{x.hema_name_en}\\n, alternative name2:{x.pr_online_name_en}\\n, \\\n",
    "                            product country {x.pr_country_en}\\n product keywords are {x.pr_keyword_en + x.translated_keyword + x.pr_filter_en + x.pr_filter_th}\\n \\\n",
    "                            product categories are {\",\".join( (x.online_category_l1_en , x.online_category_l2_en , x.online_category_l3_en, x.villa_category_l1_en, x.villa_category_l2_en, x.villa_category_l3_en,x.villa_category_l4_en))}\\n\\\n",
    "                            product contents are {x.content_en + x.translated_content + x.product_detail_description}\\n\\\n",
    "                            product metas are {x.meta_title + x.meta_keywords + x.meta_description}\\n\\\n",
    "                            product brand is {x.pr_brand_en}\\n\\\n",
    "                             '\n",
    "                            , axis=1)\n",
    "df1.seoInputText"
   ]
  },
  {
   "attachments": {},
   "cell_type": "markdown",
   "metadata": {},
   "source": [
    "## Openai helper"
   ]
  },
  {
   "cell_type": "code",
   "execution_count": 33,
   "metadata": {},
   "outputs": [],
   "source": [
    "@cache.memoize(tag='getDescriptionCache')\n",
    "def getDescription(inputText:str):\n",
    "    openai.api_key = getSecret('openai')['keys'][0]\n",
    "    try:\n",
    "        r = openai.Completion.create(engine=\"text-davinci-003\", prompt=inputText, max_tokens=500, temperature=.08)\n",
    "        return r[\"choices\"][0][\"text\"].replace(\"\\n\", \"\")\n",
    "    except RateLimitError as e:\n",
    "        CURRENT_KEY += 1\n",
    "        openai.api_key = getSecret('openai')['keys'][CURRENT_KEY]\n",
    "        return getDescription(inputText)\n",
    "    except Exception as e:\n",
    "        print(e)\n",
    "        return getDescription(inputText)\n",
    "        "
   ]
  },
  {
   "attachments": {},
   "cell_type": "markdown",
   "metadata": {},
   "source": [
    "## make test sample for get description ( not what you want)"
   ]
  },
  {
   "cell_type": "code",
   "execution_count": 14,
   "metadata": {},
   "outputs": [],
   "source": [
    "samples = df1.head().inputText.apply(getDescription)\n",
    "samples.to_csv('../data/samples.csv', index=False)\n",
    "samples"
   ]
  },
  {
   "cell_type": "code",
   "execution_count": 17,
   "metadata": {},
   "outputs": [],
   "source": [
    "df1['gptDescription'] = df1.inputText.apply(getDescription)\n",
    "df1.to_csv('../data/result.csv', index=False)"
   ]
  },
  {
   "attachments": {},
   "cell_type": "markdown",
   "metadata": {},
   "source": [
    "### test run seo"
   ]
  },
  {
   "cell_type": "code",
   "execution_count": 56,
   "metadata": {},
   "outputs": [
    {
     "data": {
      "text/plain": [
       "'<title>Beluga Caviar | Finest Quality Caviar | Buy Now</title><meta name=\"description\" content=\"Beluga caviar is the finest quality caviar available. It is harvested from the Beluga sturgeon, a species of fish found in the Caspian and Black Sea. Beluga caviar is prized for its large, glossy eggs and its delicate, buttery flavor. It is a luxurious delicacy that is perfect for special occasions. Buy Beluga caviar from our online store and enjoy the finest quality caviar available. We offer a wide selection of caviar, from the classic Beluga to the rare and exotic. Our caviar is sustainably sourced and carefully processed to ensure the highest quality. Whether you are looking for a special treat or a unique gift, our Beluga caviar is sure to please. Order now and enjoy the finest caviar available.>\"Beluga caviar is the finest quality caviar available. It is harvested from the Beluga sturgeon, a species of fish found in the Caspian and Black Sea. Beluga caviar is prized for its large, glossy eggs and its delicate, buttery flavor. It is a luxurious delicacy that is perfect for special occasions. Buy Beluga caviar from our online store and enjoy the finest quality caviar available. Our Beluga caviar is sustainably sourced and carefully processed to ensure the highest quality. We offer a wide selection of caviar, from the classic Beluga to the rare and exotic. Our caviar is harvested from the wild and carefully processed to ensure the highest quality. We use only the freshest ingredients and the most advanced techniques to ensure that our caviar is of the highest quality. Our Beluga caviar is perfect for any occasion. Whether you are looking for a special treat or a unique gift, our Beluga caviar is sure to please. Our caviar is perfect for a romantic dinner, a special occasion, or just to enjoy as a luxurious treat. Our caviar is sure to add a touch of elegance to any occasion. Order Beluga caviar from our online store and enjoy the finest quality caviar available. We offer a wide selection of caviar, from the classic Beluga to the rare and exotic. Our caviar is sustainably sourced and carefully processed to ensure the highest quality. Whether you are looking for a special'"
      ]
     },
     "execution_count": 56,
     "metadata": {},
     "output_type": "execute_result"
    }
   ],
   "source": [
    "inputText = 'please make a seo tag for this product with 500 words description\\n product name: beluga caviar'\n",
    "r = openai.Completion.create(engine=\"text-davinci-003\", prompt=inputText, max_tokens=500, temperature=.08)\n",
    "r[\"choices\"][0][\"text\"].replace(\"\\n\", \"\")"
   ]
  },
  {
   "attachments": {},
   "cell_type": "markdown",
   "metadata": {},
   "source": [
    "## Get seo"
   ]
  },
  {
   "cell_type": "code",
   "execution_count": 57,
   "metadata": {},
   "outputs": [],
   "source": [
    "r = df1.head(9).seoInputText.apply(getDescription)\n",
    "r.to_csv('../data/seo.csv', index=False)\n"
   ]
  },
  {
   "cell_type": "code",
   "execution_count": 58,
   "metadata": {},
   "outputs": [
    {
     "data": {
      "text/html": [
       "<div>\n",
       "<style scoped>\n",
       "    .dataframe tbody tr th:only-of-type {\n",
       "        vertical-align: middle;\n",
       "    }\n",
       "\n",
       "    .dataframe tbody tr th {\n",
       "        vertical-align: top;\n",
       "    }\n",
       "\n",
       "    .dataframe thead th {\n",
       "        text-align: right;\n",
       "    }\n",
       "</style>\n",
       "<table border=\"1\" class=\"dataframe\">\n",
       "  <thead>\n",
       "    <tr style=\"text-align: right;\">\n",
       "      <th></th>\n",
       "      <th>seoInputText</th>\n",
       "    </tr>\n",
       "  </thead>\n",
       "  <tbody>\n",
       "    <tr>\n",
       "      <th>0</th>\n",
       "      <td>&lt;title&gt;KONJAC LINGUINI - Moku Konjac Flat Nood...</td>\n",
       "    </tr>\n",
       "    <tr>\n",
       "      <th>1</th>\n",
       "      <td>&lt;title&gt;Bumil Gochujang 250g - Villa Market&lt;/ti...</td>\n",
       "    </tr>\n",
       "    <tr>\n",
       "      <th>2</th>\n",
       "      <td>&lt;title&gt;White Shimeji | Fresh Produce | Fruits ...</td>\n",
       "    </tr>\n",
       "    <tr>\n",
       "      <th>3</th>\n",
       "      <td>&lt;title&gt;Stute Apricot Jam 430g - Low Sugar &amp; Su...</td>\n",
       "    </tr>\n",
       "    <tr>\n",
       "      <th>4</th>\n",
       "      <td>&lt;title&gt;COLGATE TOTAL CHARCOAL DEEP CLEAN 150G ...</td>\n",
       "    </tr>\n",
       "    <tr>\n",
       "      <th>5</th>\n",
       "      <td>&lt;title&gt;Douglas-CT1725-Amber Fox Doll | Villa M...</td>\n",
       "    </tr>\n",
       "    <tr>\n",
       "      <th>6</th>\n",
       "      <td>&lt;title&gt;MAP OF BKK, 27TH EDIT. | Villa Market&lt;/...</td>\n",
       "    </tr>\n",
       "    <tr>\n",
       "      <th>7</th>\n",
       "      <td>&lt;title&gt;Herr's Medium Salsa Dip 454g - Villa Ma...</td>\n",
       "    </tr>\n",
       "    <tr>\n",
       "      <th>8</th>\n",
       "      <td>&lt;title&gt;234147 Sprite Lemon Lime Flavour No Sug...</td>\n",
       "    </tr>\n",
       "  </tbody>\n",
       "</table>\n",
       "</div>"
      ],
      "text/plain": [
       "                                        seoInputText\n",
       "0  <title>KONJAC LINGUINI - Moku Konjac Flat Nood...\n",
       "1  <title>Bumil Gochujang 250g - Villa Market</ti...\n",
       "2  <title>White Shimeji | Fresh Produce | Fruits ...\n",
       "3  <title>Stute Apricot Jam 430g - Low Sugar & Su...\n",
       "4  <title>COLGATE TOTAL CHARCOAL DEEP CLEAN 150G ...\n",
       "5  <title>Douglas-CT1725-Amber Fox Doll | Villa M...\n",
       "6  <title>MAP OF BKK, 27TH EDIT. | Villa Market</...\n",
       "7  <title>Herr's Medium Salsa Dip 454g - Villa Ma...\n",
       "8  <title>234147 Sprite Lemon Lime Flavour No Sug..."
      ]
     },
     "execution_count": 58,
     "metadata": {},
     "output_type": "execute_result"
    }
   ],
   "source": [
    "pd.read_csv('../data/seo.csv')"
   ]
  },
  {
   "cell_type": "code",
   "execution_count": 59,
   "metadata": {},
   "outputs": [
    {
     "ename": "SyntaxError",
     "evalue": "unexpected EOF while parsing (4144929112.py, line 3)",
     "output_type": "error",
     "traceback": [
      "\u001b[0;36m  Cell \u001b[0;32mIn[59], line 3\u001b[0;36m\u001b[0m\n\u001b[0;31m    \u001b[0m\n\u001b[0m    ^\u001b[0m\n\u001b[0;31mSyntaxError\u001b[0m\u001b[0;31m:\u001b[0m unexpected EOF while parsing\n"
     ]
    }
   ],
   "source": [
    "def process(filname:str, outputPath:str):\n",
    "    # df........\n",
    "\n"
   ]
  },
  {
   "cell_type": "code",
   "execution_count": 60,
   "metadata": {},
   "outputs": [
    {
     "data": {
      "text/html": [
       "<div>\n",
       "<style scoped>\n",
       "    .dataframe tbody tr th:only-of-type {\n",
       "        vertical-align: middle;\n",
       "    }\n",
       "\n",
       "    .dataframe tbody tr th {\n",
       "        vertical-align: top;\n",
       "    }\n",
       "\n",
       "    .dataframe thead th {\n",
       "        text-align: right;\n",
       "    }\n",
       "</style>\n",
       "<table border=\"1\" class=\"dataframe\">\n",
       "  <thead>\n",
       "    <tr style=\"text-align: right;\">\n",
       "      <th></th>\n",
       "      <th>cprcode</th>\n",
       "      <th>iprcode</th>\n",
       "      <th>oprcode</th>\n",
       "      <th>ordertype</th>\n",
       "      <th>pr_abb</th>\n",
       "      <th>pr_active</th>\n",
       "      <th>pr_cgcode</th>\n",
       "      <th>pr_dpcode</th>\n",
       "      <th>pr_engname</th>\n",
       "      <th>pr_ggcode</th>\n",
       "      <th>...</th>\n",
       "      <th>depth</th>\n",
       "      <th>product_attribute_id</th>\n",
       "      <th>product_attribute</th>\n",
       "      <th>product_attribute_images</th>\n",
       "      <th>related_products</th>\n",
       "      <th>enabled</th>\n",
       "      <th>preorder_delivery_type</th>\n",
       "      <th>preorder_fix_date</th>\n",
       "      <th>preorder_relative_day</th>\n",
       "      <th>priority_score</th>\n",
       "    </tr>\n",
       "  </thead>\n",
       "  <tbody>\n",
       "    <tr>\n",
       "      <th>0</th>\n",
       "      <td>225407</td>\n",
       "      <td>225407</td>\n",
       "      <td>225407</td>\n",
       "      <td>Y</td>\n",
       "      <td>MOKU</td>\n",
       "      <td>True</td>\n",
       "      <td>87</td>\n",
       "      <td>21</td>\n",
       "      <td>KONJAC LINGUINI</td>\n",
       "      <td>10</td>\n",
       "      <td>...</td>\n",
       "      <td>NaN</td>\n",
       "      <td>NaN</td>\n",
       "      <td>{'description': 'Moku KONJAC LINGUINI is a del...</td>\n",
       "      <td>NaN</td>\n",
       "      <td>NaN</td>\n",
       "      <td>NaN</td>\n",
       "      <td>NaN</td>\n",
       "      <td>NaN</td>\n",
       "      <td>NaN</td>\n",
       "      <td>NaN</td>\n",
       "    </tr>\n",
       "    <tr>\n",
       "      <th>1</th>\n",
       "      <td>241101</td>\n",
       "      <td>241101</td>\n",
       "      <td>241101</td>\n",
       "      <td>Y</td>\n",
       "      <td>BUMILGOCHUJANG</td>\n",
       "      <td>True</td>\n",
       "      <td>6</td>\n",
       "      <td>8</td>\n",
       "      <td>BUMILGOCHUJANG</td>\n",
       "      <td>6</td>\n",
       "      <td>...</td>\n",
       "      <td>NaN</td>\n",
       "      <td>NaN</td>\n",
       "      <td>{'description': 'Bumil Gochujang is a traditio...</td>\n",
       "      <td>NaN</td>\n",
       "      <td>NaN</td>\n",
       "      <td>NaN</td>\n",
       "      <td>NaN</td>\n",
       "      <td>NaN</td>\n",
       "      <td>NaN</td>\n",
       "      <td>NaN</td>\n",
       "    </tr>\n",
       "    <tr>\n",
       "      <th>2</th>\n",
       "      <td>190100</td>\n",
       "      <td>190100</td>\n",
       "      <td>190100</td>\n",
       "      <td>Y</td>\n",
       "      <td>WHITE SHIMEJI</td>\n",
       "      <td>True</td>\n",
       "      <td>5</td>\n",
       "      <td>19</td>\n",
       "      <td>WHITE SHIMEJI</td>\n",
       "      <td>143</td>\n",
       "      <td>...</td>\n",
       "      <td>NaN</td>\n",
       "      <td>NaN</td>\n",
       "      <td>NaN</td>\n",
       "      <td>NaN</td>\n",
       "      <td>NaN</td>\n",
       "      <td>NaN</td>\n",
       "      <td>NaN</td>\n",
       "      <td>NaN</td>\n",
       "      <td>NaN</td>\n",
       "      <td>NaN</td>\n",
       "    </tr>\n",
       "    <tr>\n",
       "      <th>3</th>\n",
       "      <td>62644</td>\n",
       "      <td>62644</td>\n",
       "      <td>62644</td>\n",
       "      <td>Y</td>\n",
       "      <td>STUTE APRICOT JAM430</td>\n",
       "      <td>True</td>\n",
       "      <td>7</td>\n",
       "      <td>8</td>\n",
       "      <td>STUTE APRICOT JAM 430 G.</td>\n",
       "      <td>2</td>\n",
       "      <td>...</td>\n",
       "      <td>0.0</td>\n",
       "      <td>5.0</td>\n",
       "      <td>{'origin': '', 'description': \"Stute Foods' ex...</td>\n",
       "      <td>[]</td>\n",
       "      <td>[]</td>\n",
       "      <td>NaN</td>\n",
       "      <td>NaN</td>\n",
       "      <td>NaN</td>\n",
       "      <td>NaN</td>\n",
       "      <td>NaN</td>\n",
       "    </tr>\n",
       "    <tr>\n",
       "      <th>4</th>\n",
       "      <td>192167</td>\n",
       "      <td>192167</td>\n",
       "      <td>192167</td>\n",
       "      <td>Y</td>\n",
       "      <td>COLGATE TOTAL CHAR</td>\n",
       "      <td>True</td>\n",
       "      <td>10</td>\n",
       "      <td>9</td>\n",
       "      <td>COLGATE TOTAL CHARCOAL DEEP CLEAN 150G</td>\n",
       "      <td>5</td>\n",
       "      <td>...</td>\n",
       "      <td>NaN</td>\n",
       "      <td>NaN</td>\n",
       "      <td>{'description': 'Colgate Total Charcoal Deep C...</td>\n",
       "      <td>NaN</td>\n",
       "      <td>NaN</td>\n",
       "      <td>NaN</td>\n",
       "      <td>NaN</td>\n",
       "      <td>NaN</td>\n",
       "      <td>NaN</td>\n",
       "      <td>NaN</td>\n",
       "    </tr>\n",
       "    <tr>\n",
       "      <th>...</th>\n",
       "      <td>...</td>\n",
       "      <td>...</td>\n",
       "      <td>...</td>\n",
       "      <td>...</td>\n",
       "      <td>...</td>\n",
       "      <td>...</td>\n",
       "      <td>...</td>\n",
       "      <td>...</td>\n",
       "      <td>...</td>\n",
       "      <td>...</td>\n",
       "      <td>...</td>\n",
       "      <td>...</td>\n",
       "      <td>...</td>\n",
       "      <td>...</td>\n",
       "      <td>...</td>\n",
       "      <td>...</td>\n",
       "      <td>...</td>\n",
       "      <td>...</td>\n",
       "      <td>...</td>\n",
       "      <td>...</td>\n",
       "      <td>...</td>\n",
       "    </tr>\n",
       "    <tr>\n",
       "      <th>65605</th>\n",
       "      <td>166008</td>\n",
       "      <td>166008</td>\n",
       "      <td>166008</td>\n",
       "      <td>Y</td>\n",
       "      <td>RIBBON 180 M. 21</td>\n",
       "      <td>True</td>\n",
       "      <td>2</td>\n",
       "      <td>25</td>\n",
       "      <td>RIBBON 180 M. 21</td>\n",
       "      <td>6</td>\n",
       "      <td>...</td>\n",
       "      <td>NaN</td>\n",
       "      <td>NaN</td>\n",
       "      <td>NaN</td>\n",
       "      <td>NaN</td>\n",
       "      <td>NaN</td>\n",
       "      <td>NaN</td>\n",
       "      <td>NaN</td>\n",
       "      <td>NaN</td>\n",
       "      <td>NaN</td>\n",
       "      <td>NaN</td>\n",
       "    </tr>\n",
       "    <tr>\n",
       "      <th>65606</th>\n",
       "      <td>76931</td>\n",
       "      <td>76931</td>\n",
       "      <td>76931</td>\n",
       "      <td>Y</td>\n",
       "      <td>ST. REMY BRANDY 70CL</td>\n",
       "      <td>True</td>\n",
       "      <td>16</td>\n",
       "      <td>1</td>\n",
       "      <td>ST. REMY BRANDY 70CL.</td>\n",
       "      <td>2</td>\n",
       "      <td>...</td>\n",
       "      <td>NaN</td>\n",
       "      <td>NaN</td>\n",
       "      <td>NaN</td>\n",
       "      <td>NaN</td>\n",
       "      <td>NaN</td>\n",
       "      <td>NaN</td>\n",
       "      <td>NaN</td>\n",
       "      <td>NaN</td>\n",
       "      <td>NaN</td>\n",
       "      <td>NaN</td>\n",
       "    </tr>\n",
       "    <tr>\n",
       "      <th>65607</th>\n",
       "      <td>203391</td>\n",
       "      <td>203391</td>\n",
       "      <td>203391</td>\n",
       "      <td>Y</td>\n",
       "      <td>CH TERREFORT-QUANCA</td>\n",
       "      <td>True</td>\n",
       "      <td>10</td>\n",
       "      <td>1</td>\n",
       "      <td>CH TERREFORT-QUANCARD</td>\n",
       "      <td>1</td>\n",
       "      <td>...</td>\n",
       "      <td>NaN</td>\n",
       "      <td>NaN</td>\n",
       "      <td>NaN</td>\n",
       "      <td>NaN</td>\n",
       "      <td>NaN</td>\n",
       "      <td>NaN</td>\n",
       "      <td>NaN</td>\n",
       "      <td>NaN</td>\n",
       "      <td>NaN</td>\n",
       "      <td>NaN</td>\n",
       "    </tr>\n",
       "    <tr>\n",
       "      <th>65608</th>\n",
       "      <td>205603</td>\n",
       "      <td>205603</td>\n",
       "      <td>205603</td>\n",
       "      <td>Y</td>\n",
       "      <td>19 GRAIN WHEAT LOAF</td>\n",
       "      <td>True</td>\n",
       "      <td>15</td>\n",
       "      <td>19</td>\n",
       "      <td>19 GRAIN WHEAT LOAF</td>\n",
       "      <td>132</td>\n",
       "      <td>...</td>\n",
       "      <td>NaN</td>\n",
       "      <td>NaN</td>\n",
       "      <td>NaN</td>\n",
       "      <td>NaN</td>\n",
       "      <td>NaN</td>\n",
       "      <td>NaN</td>\n",
       "      <td>NaN</td>\n",
       "      <td>NaN</td>\n",
       "      <td>NaN</td>\n",
       "      <td>NaN</td>\n",
       "    </tr>\n",
       "    <tr>\n",
       "      <th>65609</th>\n",
       "      <td>211585</td>\n",
       "      <td>211585</td>\n",
       "      <td>211585</td>\n",
       "      <td>Y</td>\n",
       "      <td>EGG</td>\n",
       "      <td>True</td>\n",
       "      <td>49</td>\n",
       "      <td>19</td>\n",
       "      <td>EGG</td>\n",
       "      <td>1</td>\n",
       "      <td>...</td>\n",
       "      <td>NaN</td>\n",
       "      <td>NaN</td>\n",
       "      <td>NaN</td>\n",
       "      <td>NaN</td>\n",
       "      <td>NaN</td>\n",
       "      <td>NaN</td>\n",
       "      <td>NaN</td>\n",
       "      <td>NaN</td>\n",
       "      <td>NaN</td>\n",
       "      <td>NaN</td>\n",
       "    </tr>\n",
       "  </tbody>\n",
       "</table>\n",
       "<p>65610 rows × 83 columns</p>\n",
       "</div>"
      ],
      "text/plain": [
       "       cprcode  iprcode  oprcode ordertype                pr_abb  pr_active  \\\n",
       "0       225407   225407   225407         Y                  MOKU       True   \n",
       "1       241101   241101   241101         Y        BUMILGOCHUJANG       True   \n",
       "2       190100   190100   190100         Y         WHITE SHIMEJI       True   \n",
       "3        62644    62644    62644         Y  STUTE APRICOT JAM430       True   \n",
       "4       192167   192167   192167         Y    COLGATE TOTAL CHAR       True   \n",
       "...        ...      ...      ...       ...                   ...        ...   \n",
       "65605   166008   166008   166008         Y      RIBBON 180 M. 21       True   \n",
       "65606    76931    76931    76931         Y  ST. REMY BRANDY 70CL       True   \n",
       "65607   203391   203391   203391         Y   CH TERREFORT-QUANCA       True   \n",
       "65608   205603   205603   205603         Y   19 GRAIN WHEAT LOAF       True   \n",
       "65609   211585   211585   211585         Y                   EGG       True   \n",
       "\n",
       "       pr_cgcode  pr_dpcode                              pr_engname  \\\n",
       "0             87         21                         KONJAC LINGUINI   \n",
       "1              6          8                          BUMILGOCHUJANG   \n",
       "2              5         19                           WHITE SHIMEJI   \n",
       "3              7          8                STUTE APRICOT JAM 430 G.   \n",
       "4             10          9  COLGATE TOTAL CHARCOAL DEEP CLEAN 150G   \n",
       "...          ...        ...                                     ...   \n",
       "65605          2         25                        RIBBON 180 M. 21   \n",
       "65606         16          1                   ST. REMY BRANDY 70CL.   \n",
       "65607         10          1                   CH TERREFORT-QUANCARD   \n",
       "65608         15         19                     19 GRAIN WHEAT LOAF   \n",
       "65609         49         19                                     EGG   \n",
       "\n",
       "       pr_ggcode  ... depth product_attribute_id  \\\n",
       "0             10  ...   NaN                  NaN   \n",
       "1              6  ...   NaN                  NaN   \n",
       "2            143  ...   NaN                  NaN   \n",
       "3              2  ...   0.0                  5.0   \n",
       "4              5  ...   NaN                  NaN   \n",
       "...          ...  ...   ...                  ...   \n",
       "65605          6  ...   NaN                  NaN   \n",
       "65606          2  ...   NaN                  NaN   \n",
       "65607          1  ...   NaN                  NaN   \n",
       "65608        132  ...   NaN                  NaN   \n",
       "65609          1  ...   NaN                  NaN   \n",
       "\n",
       "                                       product_attribute  \\\n",
       "0      {'description': 'Moku KONJAC LINGUINI is a del...   \n",
       "1      {'description': 'Bumil Gochujang is a traditio...   \n",
       "2                                                    NaN   \n",
       "3      {'origin': '', 'description': \"Stute Foods' ex...   \n",
       "4      {'description': 'Colgate Total Charcoal Deep C...   \n",
       "...                                                  ...   \n",
       "65605                                                NaN   \n",
       "65606                                                NaN   \n",
       "65607                                                NaN   \n",
       "65608                                                NaN   \n",
       "65609                                                NaN   \n",
       "\n",
       "      product_attribute_images related_products enabled  \\\n",
       "0                          NaN              NaN     NaN   \n",
       "1                          NaN              NaN     NaN   \n",
       "2                          NaN              NaN     NaN   \n",
       "3                           []               []     NaN   \n",
       "4                          NaN              NaN     NaN   \n",
       "...                        ...              ...     ...   \n",
       "65605                      NaN              NaN     NaN   \n",
       "65606                      NaN              NaN     NaN   \n",
       "65607                      NaN              NaN     NaN   \n",
       "65608                      NaN              NaN     NaN   \n",
       "65609                      NaN              NaN     NaN   \n",
       "\n",
       "       preorder_delivery_type preorder_fix_date preorder_relative_day  \\\n",
       "0                         NaN               NaN                   NaN   \n",
       "1                         NaN               NaN                   NaN   \n",
       "2                         NaN               NaN                   NaN   \n",
       "3                         NaN               NaN                   NaN   \n",
       "4                         NaN               NaN                   NaN   \n",
       "...                       ...               ...                   ...   \n",
       "65605                     NaN               NaN                   NaN   \n",
       "65606                     NaN               NaN                   NaN   \n",
       "65607                     NaN               NaN                   NaN   \n",
       "65608                     NaN               NaN                   NaN   \n",
       "65609                     NaN               NaN                   NaN   \n",
       "\n",
       "      priority_score  \n",
       "0                NaN  \n",
       "1                NaN  \n",
       "2                NaN  \n",
       "3                NaN  \n",
       "4                NaN  \n",
       "...              ...  \n",
       "65605            NaN  \n",
       "65606            NaN  \n",
       "65607            NaN  \n",
       "65608            NaN  \n",
       "65609            NaN  \n",
       "\n",
       "[65610 rows x 83 columns]"
      ]
     },
     "execution_count": 60,
     "metadata": {},
     "output_type": "execute_result"
    }
   ],
   "source": [
    "df"
   ]
  },
  {
   "cell_type": "code",
   "execution_count": null,
   "metadata": {},
   "outputs": [],
   "source": []
  }
 ],
 "metadata": {
  "kernelspec": {
   "display_name": "Python39",
   "language": "python",
   "name": "python3"
  },
  "language_info": {
   "codemirror_mode": {
    "name": "ipython",
    "version": 3
   },
   "file_extension": ".py",
   "mimetype": "text/x-python",
   "name": "python",
   "nbconvert_exporter": "python",
   "pygments_lexer": "ipython3",
   "version": "3.9.15"
  },
  "orig_nbformat": 4,
  "vscode": {
   "interpreter": {
    "hash": "729b0facafcf0f0ead774a85528f66b890c1791759e1537da0b7af21c0b7cbca"
   }
  }
 },
 "nbformat": 4,
 "nbformat_minor": 2
}
