{
 "cells": [
  {
   "cell_type": "code",
   "execution_count": 15,
   "metadata": {},
   "outputs": [],
   "source": [
    "from bs4 import BeautifulSoup\n",
    "import pandas as pd\n",
    "from copy import deepcopy"
   ]
  },
  {
   "cell_type": "code",
   "execution_count": 16,
   "metadata": {},
   "outputs": [],
   "source": [
    "def is_valid_html(html_string):\n",
    "    soup = BeautifulSoup(html_string, 'html.parser')\n",
    "    tags = [tag.name for tag in soup.find_all()]\n",
    "    valid = len(tags) > 0\n",
    "    if not valid:\n",
    "        print(html_string)\n",
    "    return valid"
   ]
  },
  {
   "cell_type": "code",
   "execution_count": 17,
   "metadata": {},
   "outputs": [],
   "source": [
    "def get_tag_names(html_string):\n",
    "    soup = BeautifulSoup(html_string, 'html.parser')\n",
    "    tags = [tag.name for tag in soup.find_all()]\n",
    "    return tags"
   ]
  },
  {
   "cell_type": "code",
   "execution_count": 18,
   "metadata": {},
   "outputs": [],
   "source": [
    "def get_tags(html_string):\n",
    "    soup = BeautifulSoup(html_string, 'html.parser')\n",
    "    tags = [tag for tag in soup.find_all()]\n",
    "    return tags"
   ]
  },
  {
   "cell_type": "code",
   "execution_count": 19,
   "metadata": {},
   "outputs": [],
   "source": [
    "def get_attrs(html_tags):\n",
    "    attrs = []\n",
    "    for tag in html_tags:\n",
    "        for key in tag.attrs.keys():\n",
    "            if key not in attrs:\n",
    "                attrs.append(key)\n",
    "    return attrs\n"
   ]
  },
  {
   "cell_type": "code",
   "execution_count": 20,
   "metadata": {},
   "outputs": [],
   "source": [
    "def get_attr_values(html_tags):\n",
    "    attr_values = []\n",
    "    for tag in html_tags:\n",
    "        for key in tag.attrs.keys():\n",
    "            if tag.attrs[key] not in attr_values:\n",
    "                attr_values.append(tag.attrs[key]) \n",
    "    return attr_values"
   ]
  },
  {
   "cell_type": "code",
   "execution_count": 21,
   "metadata": {},
   "outputs": [],
   "source": [
    "def has_required_attr_vals(html_attr_vals):\n",
    "    if \"description\" not in html_attr_vals:\n",
    "        return False\n",
    "    return True"
   ]
  },
  {
   "cell_type": "code",
   "execution_count": 22,
   "metadata": {},
   "outputs": [],
   "source": [
    "def remove_cprcode_from_description(df1):\n",
    "    df = deepcopy(df1)\n",
    "    for cprcode in df.cprcode:\n",
    "        index = df[df[\"cprcode\"] == cprcode].index.item()\n",
    "        cpr_string = (\"0\" * (7 - len(str(cprcode)))) + str(cprcode)\n",
    "        title_found = False\n",
    "        description_found = False\n",
    "        try:\n",
    "            newSeoOutput = df[df[\"cprcode\"] == cprcode].seoOutputText.item().replace(cpr_string, \"\")\n",
    "            newSeoOutput = newSeoOutput.replace(str(cprcode), \"\")\n",
    "            if \"Title: \" in newSeoOutput:\n",
    "                # print(df[df[\"cprcode\"] == cprcode].seoOutputText.item())\n",
    "                title_found = True\n",
    "                newSeoOutput = newSeoOutput.replace(\"Title: \", \"<title>\")\n",
    "                \n",
    "            if \"Description: \" in newSeoOutput:\n",
    "                description_found = True\n",
    "                newSeoOutput = newSeoOutput.replace(\"Description:\", '</title><meta name=\"description\" content=\"')\n",
    "            if title_found and description_found:\n",
    "                newSeoOutput = newSeoOutput + '\">'\n",
    "            elif title_found:\n",
    "                newSeoOutput = newSeoOutput + '</title>'\n",
    "            df.loc[index, \"seoOutputText\"] = newSeoOutput\n",
    "            if title_found:\n",
    "                # print(df[df[\"cprcode\"] == cprcode].seoOutputText.item())\n",
    "                pass\n",
    "        except Exception as e:\n",
    "            print(\"error: \", e)\n",
    "        \n",
    "    \n",
    "    return df"
   ]
  },
  {
   "cell_type": "code",
   "execution_count": 23,
   "metadata": {},
   "outputs": [
    {
     "data": {
      "text/html": [
       "<div>\n",
       "<style scoped>\n",
       "    .dataframe tbody tr th:only-of-type {\n",
       "        vertical-align: middle;\n",
       "    }\n",
       "\n",
       "    .dataframe tbody tr th {\n",
       "        vertical-align: top;\n",
       "    }\n",
       "\n",
       "    .dataframe thead th {\n",
       "        text-align: right;\n",
       "    }\n",
       "</style>\n",
       "<table border=\"1\" class=\"dataframe\">\n",
       "  <thead>\n",
       "    <tr style=\"text-align: right;\">\n",
       "      <th></th>\n",
       "      <th>cprcode</th>\n",
       "      <th>pr_active</th>\n",
       "      <th>pr_engname</th>\n",
       "      <th>pr_country_en</th>\n",
       "      <th>pr_keyword_en</th>\n",
       "      <th>pr_filter_th</th>\n",
       "      <th>pr_filter_en</th>\n",
       "      <th>online_category_l1_th</th>\n",
       "      <th>online_category_l1_en</th>\n",
       "      <th>online_category_l2_th</th>\n",
       "      <th>...</th>\n",
       "      <th>meta_keywords</th>\n",
       "      <th>meta_description</th>\n",
       "      <th>product_attribute</th>\n",
       "      <th>translated_keyword</th>\n",
       "      <th>translated_name1</th>\n",
       "      <th>translated_name2</th>\n",
       "      <th>translated_name3</th>\n",
       "      <th>translated_content</th>\n",
       "      <th>seoInputText</th>\n",
       "      <th>seoOutputText</th>\n",
       "    </tr>\n",
       "  </thead>\n",
       "  <tbody>\n",
       "    <tr>\n",
       "      <th>0</th>\n",
       "      <td>225407</td>\n",
       "      <td>True</td>\n",
       "      <td>KONJAC LINGUINI</td>\n",
       "      <td>TH</td>\n",
       "      <td>NaN</td>\n",
       "      <td>NaN</td>\n",
       "      <td>NaN</td>\n",
       "      <td>อาหารสำเร็จรูปและไข่</td>\n",
       "      <td>Delicatessen &amp; Eggs</td>\n",
       "      <td>อาหารพร้อมทาน</td>\n",
       "      <td>...</td>\n",
       "      <td>Delicatessen &amp; Eggs,Asian Deli,Noodles,Moku,Ko...</td>\n",
       "      <td>NaN</td>\n",
       "      <td>NaN</td>\n",
       "      <td>Into</td>\n",
       "      <td>Invade the Romoku brand</td>\n",
       "      <td>Invade the Romoku brand</td>\n",
       "      <td>Invade the Romoku brand</td>\n",
       "      <td>Invade the Romoku brand</td>\n",
       "      <td>please make a seo tag for this product, includ...</td>\n",
       "      <td>&lt;title&gt;KONJAC LINGUINI - Moku Konjac Flat Nood...</td>\n",
       "    </tr>\n",
       "    <tr>\n",
       "      <th>1</th>\n",
       "      <td>62644</td>\n",
       "      <td>True</td>\n",
       "      <td>STUTE APRICOT JAM 430 G.</td>\n",
       "      <td>DE</td>\n",
       "      <td>NaN</td>\n",
       "      <td>Grocery,Low Sugar  Sugar Free,Health,Jam Honey...</td>\n",
       "      <td>Grocery,Low Sugar  Sugar Free,Health,Jam Honey...</td>\n",
       "      <td>สินค้าบริโภค</td>\n",
       "      <td>Grocery</td>\n",
       "      <td>แยม น้ำผึ้ง และ สเปรดทาขนมปัง</td>\n",
       "      <td>...</td>\n",
       "      <td>Grocery,Jam Honey &amp; Spreads,Jams &amp; Marmalades,...</td>\n",
       "      <td>Stute Foods' extensive range of 'No Sugar Adde...</td>\n",
       "      <td>{'origin': '', 'description': \"Stute Foods' ex...</td>\n",
       "      <td>Into</td>\n",
       "      <td>Mare apricot jam 430 G.</td>\n",
       "      <td>Apricot Jam</td>\n",
       "      <td>Mare apricot jam 430g</td>\n",
       "      <td>Mare apricot jam 430g</td>\n",
       "      <td>please make a seo tag for this product, includ...</td>\n",
       "      <td>&lt;title&gt;Stute Apricot Jam 430g - Low Sugar &amp; Su...</td>\n",
       "    </tr>\n",
       "    <tr>\n",
       "      <th>2</th>\n",
       "      <td>192167</td>\n",
       "      <td>True</td>\n",
       "      <td>COLGATE TOTAL CHARCOAL DEEP CLEAN 150G</td>\n",
       "      <td>TH</td>\n",
       "      <td>NaN</td>\n",
       "      <td>Dental Care,Non-Food</td>\n",
       "      <td>Dental Care,Non-Food</td>\n",
       "      <td>สุขภาพและความงาม</td>\n",
       "      <td>Health &amp; Beauty</td>\n",
       "      <td>ผลิตภัณฑ์ดูแลเหงือกและฟัน</td>\n",
       "      <td>...</td>\n",
       "      <td>Health &amp; Beauty,Dental Care,Toothpaste,Colgate...</td>\n",
       "      <td>NaN</td>\n",
       "      <td>NaN</td>\n",
       "      <td>Into</td>\n",
       "      <td>Colgate, Total Charcoal, Clean 150 grams</td>\n",
       "      <td>Total Charcoal Deep Clean</td>\n",
       "      <td>Colgate Total Charcoal Deep Clean  150g</td>\n",
       "      <td>Colgate Total Charcoal Deep Clean  150g</td>\n",
       "      <td>please make a seo tag for this product, includ...</td>\n",
       "      <td>&lt;title&gt;COLGATE TOTAL CHARCOAL DEEP CLEAN 150G ...</td>\n",
       "    </tr>\n",
       "    <tr>\n",
       "      <th>3</th>\n",
       "      <td>243619</td>\n",
       "      <td>True</td>\n",
       "      <td>DOUGLAS-CT1725-AMBER FOX</td>\n",
       "      <td>CH</td>\n",
       "      <td>NaN</td>\n",
       "      <td>NaN</td>\n",
       "      <td>NaN</td>\n",
       "      <td>เครื่องใช้ในครัวเรือนและผลิตภัณฑ์สำหรับสัตว์เล...</td>\n",
       "      <td>Pet &amp; Household</td>\n",
       "      <td>ของเล่น</td>\n",
       "      <td>...</td>\n",
       "      <td>Pet &amp; Household,Toys,Dolls,Douglas,Amber Fox</td>\n",
       "      <td>NaN</td>\n",
       "      <td>NaN</td>\n",
       "      <td>Into</td>\n",
       "      <td>Douglas -CT1725-Amber Fox Doll</td>\n",
       "      <td>Into</td>\n",
       "      <td>Douglas -CT1725-Amber Fox Doll</td>\n",
       "      <td>Douglas -CT1725-Amber Fox Doll</td>\n",
       "      <td>please make a seo tag for this product, includ...</td>\n",
       "      <td>&lt;title&gt;DOUGLAS-CT1725-AMBER FOX Doll | Villa M...</td>\n",
       "    </tr>\n",
       "    <tr>\n",
       "      <th>4</th>\n",
       "      <td>195886</td>\n",
       "      <td>True</td>\n",
       "      <td>HERR'S MEDIUM SALSA DIP 454 G.</td>\n",
       "      <td>US</td>\n",
       "      <td>NaN</td>\n",
       "      <td>Condiments and Dressings,Grocery</td>\n",
       "      <td>Condiments and Dressings,Grocery</td>\n",
       "      <td>สินค้าบริโภค</td>\n",
       "      <td>Grocery</td>\n",
       "      <td>เครื่องปรุงรสและน้ำสลัด</td>\n",
       "      <td>...</td>\n",
       "      <td>Grocery,Condiments &amp; Dressings,Condiments,Herr...</td>\n",
       "      <td>NaN</td>\n",
       "      <td>NaN</td>\n",
       "      <td>Into</td>\n",
       "      <td>Herr's Media Salza Dip Sauce 454 G.</td>\n",
       "      <td>Medium Salsa Dip</td>\n",
       "      <td>Herr's Medium Salsa Dip  454g</td>\n",
       "      <td>Herr's Medium Salsa Dip  454g</td>\n",
       "      <td>please make a seo tag for this product, includ...</td>\n",
       "      <td>&lt;title&gt;Herr's Medium Salsa Dip 454g - Villa Ma...</td>\n",
       "    </tr>\n",
       "    <tr>\n",
       "      <th>...</th>\n",
       "      <td>...</td>\n",
       "      <td>...</td>\n",
       "      <td>...</td>\n",
       "      <td>...</td>\n",
       "      <td>...</td>\n",
       "      <td>...</td>\n",
       "      <td>...</td>\n",
       "      <td>...</td>\n",
       "      <td>...</td>\n",
       "      <td>...</td>\n",
       "      <td>...</td>\n",
       "      <td>...</td>\n",
       "      <td>...</td>\n",
       "      <td>...</td>\n",
       "      <td>...</td>\n",
       "      <td>...</td>\n",
       "      <td>...</td>\n",
       "      <td>...</td>\n",
       "      <td>...</td>\n",
       "      <td>...</td>\n",
       "      <td>...</td>\n",
       "    </tr>\n",
       "    <tr>\n",
       "      <th>1948</th>\n",
       "      <td>238468</td>\n",
       "      <td>True</td>\n",
       "      <td>WATTIES SPAGHETTI IN TOMATO SAUCE 420G18</td>\n",
       "      <td>NZ</td>\n",
       "      <td>NaN</td>\n",
       "      <td>NaN</td>\n",
       "      <td>NaN</td>\n",
       "      <td>NaN</td>\n",
       "      <td>Grocery</td>\n",
       "      <td>NaN</td>\n",
       "      <td>...</td>\n",
       "      <td>Grocery,Cans &amp; Packets,Meals &amp; Meats,Wattie's,...</td>\n",
       "      <td>NaN</td>\n",
       "      <td>NaN</td>\n",
       "      <td>Into</td>\n",
       "      <td>Waties Spaghetti Intometo Sauce 420 A. 1811</td>\n",
       "      <td>Wattests Spagetti in Tomato Sauce 420g1</td>\n",
       "      <td>Wattests Spagetti in Tomato Sauce 420g1</td>\n",
       "      <td>Wattests Spagetti in Tomato Sauce 420g1</td>\n",
       "      <td>please make a seo tag for this product, includ...</td>\n",
       "      <td>&lt;title&gt;Wattie's Spaghetti In Tomato Sauce 420g...</td>\n",
       "    </tr>\n",
       "    <tr>\n",
       "      <th>1949</th>\n",
       "      <td>145047</td>\n",
       "      <td>True</td>\n",
       "      <td>HARIBO WINE GUMS JELLY 500 G.</td>\n",
       "      <td>DE</td>\n",
       "      <td>NaN</td>\n",
       "      <td>NaN</td>\n",
       "      <td>NaN</td>\n",
       "      <td>NaN</td>\n",
       "      <td>Confectionery &amp; Snacks</td>\n",
       "      <td>NaN</td>\n",
       "      <td>...</td>\n",
       "      <td>Confectionery &amp; Snacks,Candies &amp; Marshmallows,...</td>\n",
       "      <td>NaN</td>\n",
       "      <td>NaN</td>\n",
       "      <td>Into</td>\n",
       "      <td>Haribo Gams Jelly 500 grams</td>\n",
       "      <td>Haribo Gams Jelly 500 g.</td>\n",
       "      <td>Haribo Gams Jelly 500 g.</td>\n",
       "      <td>Haribo Gams Jelly 500 g.</td>\n",
       "      <td>please make a seo tag for this product, includ...</td>\n",
       "      <td>&lt;title&gt;HARIBO Wine Gums Jelly 500g - Buy Onlin...</td>\n",
       "    </tr>\n",
       "    <tr>\n",
       "      <th>1950</th>\n",
       "      <td>196184</td>\n",
       "      <td>True</td>\n",
       "      <td>CROISSANT CHOCOLATE BUTTER</td>\n",
       "      <td>TH</td>\n",
       "      <td>Bakery</td>\n",
       "      <td>Fresh,Bakery  Snacks</td>\n",
       "      <td>Fresh,Bakery  Snacks</td>\n",
       "      <td>เบเกอรี่</td>\n",
       "      <td>Bakery</td>\n",
       "      <td>ครัวซองต์</td>\n",
       "      <td>...</td>\n",
       "      <td>Bakery,Croissants,Flavoured,,Croissant Chocola...</td>\n",
       "      <td>NaN</td>\n",
       "      <td>NaN</td>\n",
       "      <td>bakery</td>\n",
       "      <td>CROISSANT CHOCOLATE BUTTER</td>\n",
       "      <td>Croissant Chocolate Butter</td>\n",
       "      <td>Jagota Croissant Chocolate Butter 1 Pk</td>\n",
       "      <td>Jagota Croissant Chocolate Butter 1 PK Bakery</td>\n",
       "      <td>please make a seo tag for this product, includ...</td>\n",
       "      <td>&lt;title&gt;Jagota Croissant Chocolate Butter 70g |...</td>\n",
       "    </tr>\n",
       "    <tr>\n",
       "      <th>1951</th>\n",
       "      <td>232635</td>\n",
       "      <td>True</td>\n",
       "      <td>VISTAMAR SEPIA RT SAUVIGNON BLANC</td>\n",
       "      <td>CL</td>\n",
       "      <td>NaN</td>\n",
       "      <td>NaN</td>\n",
       "      <td>NaN</td>\n",
       "      <td>เบียร์, ไวน์และสุรา</td>\n",
       "      <td>Beer Wine &amp; Spirits</td>\n",
       "      <td>ไวน์ขาว</td>\n",
       "      <td>...</td>\n",
       "      <td>Beer Wine &amp; Spirits,White Wine,Chile,Vistamar,...</td>\n",
       "      <td>NaN</td>\n",
       "      <td>NaN</td>\n",
       "      <td>Into</td>\n",
       "      <td>VISTAMAR SEPIA RT SAUVIGNON BLANC</td>\n",
       "      <td>Sepia Rt Sauvignon Blanc</td>\n",
       "      <td>Vistamar Sepia Rt Sauvignon Blanc 750ml</td>\n",
       "      <td>Vistamar Sepia Rt Sauvignon Blanc 750ml</td>\n",
       "      <td>please make a seo tag for this product, includ...</td>\n",
       "      <td>&lt;title&gt;VISTAMAR SEPIA RT SAUVIGNON BLANC - Vil...</td>\n",
       "    </tr>\n",
       "    <tr>\n",
       "      <th>1952</th>\n",
       "      <td>230159</td>\n",
       "      <td>True</td>\n",
       "      <td>ECOSTORE CITUS FABRIC SOFTENER</td>\n",
       "      <td>NZ</td>\n",
       "      <td>NaN</td>\n",
       "      <td>NaN</td>\n",
       "      <td>NaN</td>\n",
       "      <td>สินค้าเพื่อสุขภาพ</td>\n",
       "      <td>Pet &amp; Household</td>\n",
       "      <td>เนทูรอล เฮาส์โฮล</td>\n",
       "      <td>...</td>\n",
       "      <td>Pet &amp; Household,Household,Laundry,Ecostore,Cit...</td>\n",
       "      <td>NaN</td>\n",
       "      <td>NaN</td>\n",
       "      <td>Into</td>\n",
       "      <td>ECOSTORE CITRUS FABRIC SOFTENER</td>\n",
       "      <td>ECOSTORE CITRUS FABRIC SOFTENER</td>\n",
       "      <td>ECOSTORE CITRUS FABRIC SOFTENER</td>\n",
       "      <td>ECOSTORE CITRUS FABRIC SOFTENER</td>\n",
       "      <td>please make a seo tag for this product, includ...</td>\n",
       "      <td>&lt;title&gt;Ecostore Citrus Fabric Softener 500ml -...</td>\n",
       "    </tr>\n",
       "  </tbody>\n",
       "</table>\n",
       "<p>1953 rows × 38 columns</p>\n",
       "</div>"
      ],
      "text/plain": [
       "      cprcode  pr_active                                pr_engname  \\\n",
       "0      225407       True                           KONJAC LINGUINI   \n",
       "1       62644       True                  STUTE APRICOT JAM 430 G.   \n",
       "2      192167       True    COLGATE TOTAL CHARCOAL DEEP CLEAN 150G   \n",
       "3      243619       True                  DOUGLAS-CT1725-AMBER FOX   \n",
       "4      195886       True            HERR'S MEDIUM SALSA DIP 454 G.   \n",
       "...       ...        ...                                       ...   \n",
       "1948   238468       True  WATTIES SPAGHETTI IN TOMATO SAUCE 420G18   \n",
       "1949   145047       True             HARIBO WINE GUMS JELLY 500 G.   \n",
       "1950   196184       True                CROISSANT CHOCOLATE BUTTER   \n",
       "1951   232635       True         VISTAMAR SEPIA RT SAUVIGNON BLANC   \n",
       "1952   230159       True            ECOSTORE CITUS FABRIC SOFTENER   \n",
       "\n",
       "     pr_country_en pr_keyword_en  \\\n",
       "0               TH           NaN   \n",
       "1               DE           NaN   \n",
       "2               TH           NaN   \n",
       "3               CH           NaN   \n",
       "4               US           NaN   \n",
       "...            ...           ...   \n",
       "1948            NZ           NaN   \n",
       "1949            DE           NaN   \n",
       "1950            TH        Bakery   \n",
       "1951            CL           NaN   \n",
       "1952            NZ           NaN   \n",
       "\n",
       "                                           pr_filter_th  \\\n",
       "0                                                   NaN   \n",
       "1     Grocery,Low Sugar  Sugar Free,Health,Jam Honey...   \n",
       "2                                  Dental Care,Non-Food   \n",
       "3                                                   NaN   \n",
       "4                      Condiments and Dressings,Grocery   \n",
       "...                                                 ...   \n",
       "1948                                                NaN   \n",
       "1949                                                NaN   \n",
       "1950                               Fresh,Bakery  Snacks   \n",
       "1951                                                NaN   \n",
       "1952                                                NaN   \n",
       "\n",
       "                                           pr_filter_en  \\\n",
       "0                                                   NaN   \n",
       "1     Grocery,Low Sugar  Sugar Free,Health,Jam Honey...   \n",
       "2                                  Dental Care,Non-Food   \n",
       "3                                                   NaN   \n",
       "4                      Condiments and Dressings,Grocery   \n",
       "...                                                 ...   \n",
       "1948                                                NaN   \n",
       "1949                                                NaN   \n",
       "1950                               Fresh,Bakery  Snacks   \n",
       "1951                                                NaN   \n",
       "1952                                                NaN   \n",
       "\n",
       "                                  online_category_l1_th  \\\n",
       "0                                  อาหารสำเร็จรูปและไข่   \n",
       "1                                          สินค้าบริโภค   \n",
       "2                                      สุขภาพและความงาม   \n",
       "3     เครื่องใช้ในครัวเรือนและผลิตภัณฑ์สำหรับสัตว์เล...   \n",
       "4                                          สินค้าบริโภค   \n",
       "...                                                 ...   \n",
       "1948                                                NaN   \n",
       "1949                                                NaN   \n",
       "1950                                           เบเกอรี่   \n",
       "1951                                เบียร์, ไวน์และสุรา   \n",
       "1952                                  สินค้าเพื่อสุขภาพ   \n",
       "\n",
       "       online_category_l1_en          online_category_l2_th  ...  \\\n",
       "0        Delicatessen & Eggs                  อาหารพร้อมทาน  ...   \n",
       "1                    Grocery  แยม น้ำผึ้ง และ สเปรดทาขนมปัง  ...   \n",
       "2            Health & Beauty      ผลิตภัณฑ์ดูแลเหงือกและฟัน  ...   \n",
       "3            Pet & Household                        ของเล่น  ...   \n",
       "4                    Grocery        เครื่องปรุงรสและน้ำสลัด  ...   \n",
       "...                      ...                            ...  ...   \n",
       "1948                 Grocery                            NaN  ...   \n",
       "1949  Confectionery & Snacks                            NaN  ...   \n",
       "1950                  Bakery                      ครัวซองต์  ...   \n",
       "1951     Beer Wine & Spirits                        ไวน์ขาว  ...   \n",
       "1952         Pet & Household               เนทูรอล เฮาส์โฮล  ...   \n",
       "\n",
       "                                          meta_keywords  \\\n",
       "0     Delicatessen & Eggs,Asian Deli,Noodles,Moku,Ko...   \n",
       "1     Grocery,Jam Honey & Spreads,Jams & Marmalades,...   \n",
       "2     Health & Beauty,Dental Care,Toothpaste,Colgate...   \n",
       "3          Pet & Household,Toys,Dolls,Douglas,Amber Fox   \n",
       "4     Grocery,Condiments & Dressings,Condiments,Herr...   \n",
       "...                                                 ...   \n",
       "1948  Grocery,Cans & Packets,Meals & Meats,Wattie's,...   \n",
       "1949  Confectionery & Snacks,Candies & Marshmallows,...   \n",
       "1950  Bakery,Croissants,Flavoured,,Croissant Chocola...   \n",
       "1951  Beer Wine & Spirits,White Wine,Chile,Vistamar,...   \n",
       "1952  Pet & Household,Household,Laundry,Ecostore,Cit...   \n",
       "\n",
       "                                       meta_description  \\\n",
       "0                                                   NaN   \n",
       "1     Stute Foods' extensive range of 'No Sugar Adde...   \n",
       "2                                                   NaN   \n",
       "3                                                   NaN   \n",
       "4                                                   NaN   \n",
       "...                                                 ...   \n",
       "1948                                                NaN   \n",
       "1949                                                NaN   \n",
       "1950                                                NaN   \n",
       "1951                                                NaN   \n",
       "1952                                                NaN   \n",
       "\n",
       "                                      product_attribute translated_keyword  \\\n",
       "0                                                   NaN               Into   \n",
       "1     {'origin': '', 'description': \"Stute Foods' ex...               Into   \n",
       "2                                                   NaN               Into   \n",
       "3                                                   NaN               Into   \n",
       "4                                                   NaN               Into   \n",
       "...                                                 ...                ...   \n",
       "1948                                                NaN               Into   \n",
       "1949                                                NaN               Into   \n",
       "1950                                                NaN             bakery   \n",
       "1951                                                NaN               Into   \n",
       "1952                                                NaN               Into   \n",
       "\n",
       "                                 translated_name1  \\\n",
       "0                         Invade the Romoku brand   \n",
       "1                         Mare apricot jam 430 G.   \n",
       "2        Colgate, Total Charcoal, Clean 150 grams   \n",
       "3                  Douglas -CT1725-Amber Fox Doll   \n",
       "4             Herr's Media Salza Dip Sauce 454 G.   \n",
       "...                                           ...   \n",
       "1948  Waties Spaghetti Intometo Sauce 420 A. 1811   \n",
       "1949                  Haribo Gams Jelly 500 grams   \n",
       "1950                   CROISSANT CHOCOLATE BUTTER   \n",
       "1951            VISTAMAR SEPIA RT SAUVIGNON BLANC   \n",
       "1952              ECOSTORE CITRUS FABRIC SOFTENER   \n",
       "\n",
       "                             translated_name2  \\\n",
       "0                     Invade the Romoku brand   \n",
       "1                                 Apricot Jam   \n",
       "2                   Total Charcoal Deep Clean   \n",
       "3                                        Into   \n",
       "4                            Medium Salsa Dip   \n",
       "...                                       ...   \n",
       "1948  Wattests Spagetti in Tomato Sauce 420g1   \n",
       "1949                 Haribo Gams Jelly 500 g.   \n",
       "1950               Croissant Chocolate Butter   \n",
       "1951                 Sepia Rt Sauvignon Blanc   \n",
       "1952          ECOSTORE CITRUS FABRIC SOFTENER   \n",
       "\n",
       "                             translated_name3  \\\n",
       "0                     Invade the Romoku brand   \n",
       "1                       Mare apricot jam 430g   \n",
       "2     Colgate Total Charcoal Deep Clean  150g   \n",
       "3              Douglas -CT1725-Amber Fox Doll   \n",
       "4               Herr's Medium Salsa Dip  454g   \n",
       "...                                       ...   \n",
       "1948  Wattests Spagetti in Tomato Sauce 420g1   \n",
       "1949                 Haribo Gams Jelly 500 g.   \n",
       "1950   Jagota Croissant Chocolate Butter 1 Pk   \n",
       "1951  Vistamar Sepia Rt Sauvignon Blanc 750ml   \n",
       "1952          ECOSTORE CITRUS FABRIC SOFTENER   \n",
       "\n",
       "                                 translated_content  \\\n",
       "0                           Invade the Romoku brand   \n",
       "1                             Mare apricot jam 430g   \n",
       "2           Colgate Total Charcoal Deep Clean  150g   \n",
       "3                    Douglas -CT1725-Amber Fox Doll   \n",
       "4                     Herr's Medium Salsa Dip  454g   \n",
       "...                                             ...   \n",
       "1948        Wattests Spagetti in Tomato Sauce 420g1   \n",
       "1949                       Haribo Gams Jelly 500 g.   \n",
       "1950  Jagota Croissant Chocolate Butter 1 PK Bakery   \n",
       "1951        Vistamar Sepia Rt Sauvignon Blanc 750ml   \n",
       "1952                ECOSTORE CITRUS FABRIC SOFTENER   \n",
       "\n",
       "                                           seoInputText  \\\n",
       "0     please make a seo tag for this product, includ...   \n",
       "1     please make a seo tag for this product, includ...   \n",
       "2     please make a seo tag for this product, includ...   \n",
       "3     please make a seo tag for this product, includ...   \n",
       "4     please make a seo tag for this product, includ...   \n",
       "...                                                 ...   \n",
       "1948  please make a seo tag for this product, includ...   \n",
       "1949  please make a seo tag for this product, includ...   \n",
       "1950  please make a seo tag for this product, includ...   \n",
       "1951  please make a seo tag for this product, includ...   \n",
       "1952  please make a seo tag for this product, includ...   \n",
       "\n",
       "                                          seoOutputText  \n",
       "0     <title>KONJAC LINGUINI - Moku Konjac Flat Nood...  \n",
       "1     <title>Stute Apricot Jam 430g - Low Sugar & Su...  \n",
       "2     <title>COLGATE TOTAL CHARCOAL DEEP CLEAN 150G ...  \n",
       "3     <title>DOUGLAS-CT1725-AMBER FOX Doll | Villa M...  \n",
       "4     <title>Herr's Medium Salsa Dip 454g - Villa Ma...  \n",
       "...                                                 ...  \n",
       "1948  <title>Wattie's Spaghetti In Tomato Sauce 420g...  \n",
       "1949  <title>HARIBO Wine Gums Jelly 500g - Buy Onlin...  \n",
       "1950  <title>Jagota Croissant Chocolate Butter 70g |...  \n",
       "1951  <title>VISTAMAR SEPIA RT SAUVIGNON BLANC - Vil...  \n",
       "1952  <title>Ecostore Citrus Fabric Softener 500ml -...  \n",
       "\n",
       "[1953 rows x 38 columns]"
      ]
     },
     "execution_count": 23,
     "metadata": {},
     "output_type": "execute_result"
    }
   ],
   "source": [
    "df = pd.read_csv(f\"dynamodb_export_full_output_{0}.csv\")\n",
    "df = remove_cprcode_from_description(df)\n",
    "df"
   ]
  },
  {
   "cell_type": "code",
   "execution_count": 24,
   "metadata": {},
   "outputs": [
    {
     "data": {
      "text/plain": [
       "0    <title>KONJAC LINGUINI - Moku Konjac Flat Nood...\n",
       "1    <title>Stute Apricot Jam 430g - Low Sugar & Su...\n",
       "2    <title>COLGATE TOTAL CHARCOAL DEEP CLEAN 150G ...\n",
       "3    <title>DOUGLAS-CT1725-AMBER FOX Doll | Villa M...\n",
       "4    <title>Herr's Medium Salsa Dip 454g - Villa Ma...\n",
       "5    <title> Sprite Lemon Lime Flavour No Sugar 500...\n",
       "6    <title>NIVEA DEO DRY COMFORT STICK 40ML | Vill...\n",
       "7    <title>OGX Conditioner Biotin & Collagen 385ml...\n",
       "8    <title>Vicenzi Matilde Lemon Cream 150g | Vill...\n",
       "9    <title>Sloane's Bacon Back 200g - Villa Market...\n",
       "Name: seoOutputText, dtype: object"
      ]
     },
     "execution_count": 24,
     "metadata": {},
     "output_type": "execute_result"
    }
   ],
   "source": [
    "df.head(10).seoOutputText"
   ]
  },
  {
   "cell_type": "code",
   "execution_count": 25,
   "metadata": {},
   "outputs": [],
   "source": [
    "\n",
    "df[\"valid_html\"] = df.seoOutputText.apply(is_valid_html)\n",
    "df[\"tag_names\"] = df.seoOutputText.apply(get_tag_names)\n",
    "df[\"tags\"] = df.seoOutputText.apply(get_tags)\n",
    "df[\"attributes\"] = df.tags.apply(get_attrs)\n",
    "df[\"attr_values\"] = df.tags.apply(get_attr_values)\n",
    "df[\"has_required_attr_values\"] = df.attr_values.apply(has_required_attr_vals)"
   ]
  },
  {
   "cell_type": "code",
   "execution_count": 26,
   "metadata": {},
   "outputs": [
    {
     "data": {
      "text/plain": [
       "0          [title, meta]\n",
       "1    [title, meta, meta]\n",
       "2    [title, meta, meta]\n",
       "3    [title, meta, meta]\n",
       "4    [title, meta, meta]\n",
       "5    [title, meta, meta]\n",
       "6    [title, meta, meta]\n",
       "7    [title, meta, meta]\n",
       "8                [title]\n",
       "9    [title, meta, meta]\n",
       "Name: tag_names, dtype: object"
      ]
     },
     "execution_count": 26,
     "metadata": {},
     "output_type": "execute_result"
    }
   ],
   "source": [
    "df.head(10).tag_names"
   ]
  },
  {
   "cell_type": "code",
   "execution_count": 27,
   "metadata": {},
   "outputs": [
    {
     "data": {
      "text/plain": [
       "0    [[KONJAC LINGUINI - Moku Konjac Flat Noodle 16...\n",
       "1    [[Stute Apricot Jam 430g - Low Sugar & Sugar F...\n",
       "2    [[COLGATE TOTAL CHARCOAL DEEP CLEAN 150G | Vil...\n",
       "3    [[DOUGLAS-CT1725-AMBER FOX Doll | Villa Market...\n",
       "4    [[Herr's Medium Salsa Dip 454g - Villa Market]...\n",
       "5    [[ Sprite Lemon Lime Flavour No Sugar 500ml - ...\n",
       "6    [[NIVEA DEO DRY COMFORT STICK 40ML | Villa Mar...\n",
       "7    [[OGX Conditioner Biotin & Collagen 385ml - Vi...\n",
       "8    [[Vicenzi Matilde Lemon Cream 150g | Villa Mar...\n",
       "9    [[Sloane's Bacon Back 200g - Villa Market], []...\n",
       "Name: tags, dtype: object"
      ]
     },
     "execution_count": 27,
     "metadata": {},
     "output_type": "execute_result"
    }
   ],
   "source": [
    "df.head(10).tags"
   ]
  },
  {
   "cell_type": "code",
   "execution_count": 28,
   "metadata": {},
   "outputs": [
    {
     "data": {
      "text/plain": [
       "0    [name, content]\n",
       "1    [name, content]\n",
       "2    [name, content]\n",
       "3    [name, content]\n",
       "4    [name, content]\n",
       "5    [name, content]\n",
       "6    [name, content]\n",
       "7    [name, content]\n",
       "8                 []\n",
       "9    [name, content]\n",
       "Name: attributes, dtype: object"
      ]
     },
     "execution_count": 28,
     "metadata": {},
     "output_type": "execute_result"
    }
   ],
   "source": [
    "df.head(10).attributes"
   ]
  },
  {
   "cell_type": "code",
   "execution_count": 29,
   "metadata": {},
   "outputs": [
    {
     "data": {
      "text/plain": [
       "0    [description, KONJAC LINGUINI is a Moku Konjac...\n",
       "1    [description, Stute Foods' No Sugar Added Apri...\n",
       "2    [description, COLGATE TOTAL CHARCOAL DEEP CLEA...\n",
       "3    [description, Introducing the DOUGLAS-CT1725-A...\n",
       "4    [description, Herr's Medium Salsa Dip 454g is ...\n",
       "5    [description,  Sprite Lemon Lime Flavour No Su...\n",
       "6    [description, Villa Market offers NIVEA DEO DR...\n",
       "7    [description, OGX Conditioner Biotin & Collage...\n",
       "8                                                   []\n",
       "9    [description, Sloane's Bacon Back 200g is a de...\n",
       "Name: attr_values, dtype: object"
      ]
     },
     "execution_count": 29,
     "metadata": {},
     "output_type": "execute_result"
    }
   ],
   "source": [
    "df.head(10).attr_values"
   ]
  },
  {
   "cell_type": "code",
   "execution_count": 30,
   "metadata": {},
   "outputs": [
    {
     "data": {
      "text/plain": [
       "0     True\n",
       "1     True\n",
       "2     True\n",
       "3     True\n",
       "4     True\n",
       "5     True\n",
       "6     True\n",
       "7     True\n",
       "8    False\n",
       "9     True\n",
       "Name: has_required_attr_values, dtype: bool"
      ]
     },
     "execution_count": 30,
     "metadata": {},
     "output_type": "execute_result"
    }
   ],
   "source": [
    "df.head(10).has_required_attr_values"
   ]
  },
  {
   "cell_type": "code",
   "execution_count": 31,
   "metadata": {},
   "outputs": [
    {
     "name": "stdout",
     "output_type": "stream",
     "text": [
      "\n",
      "\n",
      "\n",
      "\n",
      "\n",
      "\n",
      "\n",
      "\n"
     ]
    }
   ],
   "source": [
    "invalid_htmls = 0\n",
    "doesnt_have_required_attrs = 0\n",
    "for i in range(10):\n",
    "    df = pd.read_csv(f\"dynamodb_export_full_output_{i}.csv\").fillna(\"\")\n",
    "    df = remove_cprcode_from_description(df)\n",
    "    df[\"valid_html\"] = df.seoOutputText.apply(is_valid_html)\n",
    "    df[\"tag_names\"] = df.seoOutputText.apply(get_tag_names)\n",
    "    df[\"tags\"] = df.seoOutputText.apply(get_tags)\n",
    "    df[\"attributes\"] = df.tags.apply(get_attrs)\n",
    "    df[\"attr_values\"] = df.tags.apply(get_attr_values)\n",
    "    df[\"has_required_attr_values\"] = df.attr_values.apply(has_required_attr_vals)\n",
    "    invalid_htmls += len(df[df[\"valid_html\"] == False])\n",
    "    doesnt_have_required_attrs += len(df[df[\"has_required_attr_values\"] == False])\n",
    "    df.to_csv(f\"reformatted_seo_output{i}.csv\", index=False)\n"
   ]
  },
  {
   "cell_type": "code",
   "execution_count": 32,
   "metadata": {},
   "outputs": [
    {
     "name": "stdout",
     "output_type": "stream",
     "text": [
      "invalid_htmls:  8\n",
      "doesnt_have_required_attrs:  2633\n"
     ]
    }
   ],
   "source": [
    "print(\"invalid_htmls: \", invalid_htmls)\n",
    "print(\"doesnt_have_required_attrs: \", doesnt_have_required_attrs)"
   ]
  },
  {
   "attachments": {},
   "cell_type": "markdown",
   "metadata": {},
   "source": [
    "# Merge Files\n",
    "## Load all 10 files at the same time (from nic)"
   ]
  },
  {
   "cell_type": "code",
   "execution_count": 88,
   "metadata": {},
   "outputs": [
    {
     "data": {
      "text/plain": [
       "(19530, 44)"
      ]
     },
     "execution_count": 88,
     "metadata": {},
     "output_type": "execute_result"
    }
   ],
   "source": [
    "mergedDf = pd.concat([pd.read_csv(f\"reformatted_seo_output{i}.csv\") for i in range(10)])\n",
    "mergedDf.shape"
   ]
  },
  {
   "attachments": {},
   "cell_type": "markdown",
   "metadata": {},
   "source": [
    "## Check for na"
   ]
  },
  {
   "cell_type": "code",
   "execution_count": 60,
   "metadata": {},
   "outputs": [
    {
     "data": {
      "text/plain": [
       "(8, 44)"
      ]
     },
     "execution_count": 60,
     "metadata": {},
     "output_type": "execute_result"
    }
   ],
   "source": [
    "import numpy as np\n",
    "mergedDf[mergedDf.valid_html == False & mergedDf.seoOutputText.isna()].shape"
   ]
  },
  {
   "attachments": {},
   "cell_type": "markdown",
   "metadata": {},
   "source": [
    "## Filter out the valid and invalid ones"
   ]
  },
  {
   "cell_type": "code",
   "execution_count": 90,
   "metadata": {},
   "outputs": [
    {
     "data": {
      "text/plain": [
       "8                                                      []\n",
       "29                                                     []\n",
       "30      ['keywords', 'Haagen-Dazs, Salted Caramel, 500...\n",
       "34      ['keywords', 'Barilla,Bolognese Pasta Sauce,In...\n",
       "35                                                     []\n",
       "                              ...                        \n",
       "1926                                                   []\n",
       "1940    ['keywords', \"Wall's, Paddle Pop Ice Shot Frui...\n",
       "1942                                                   []\n",
       "1948                                                   []\n",
       "1951                                                   []\n",
       "Name: attr_values, Length: 2633, dtype: object"
      ]
     },
     "execution_count": 90,
     "metadata": {},
     "output_type": "execute_result"
    }
   ],
   "source": [
    "invalidDf = mergedDf[~mergedDf.has_required_attr_values]\n",
    "validDf = mergedDf[mergedDf.has_required_attr_values]\n",
    "invalidDf.attr_values"
   ]
  },
  {
   "cell_type": "code",
   "execution_count": 93,
   "metadata": {},
   "outputs": [],
   "source": [
    "generator = (i for i in range(1000))"
   ]
  },
  {
   "cell_type": "code",
   "execution_count": 97,
   "metadata": {},
   "outputs": [
    {
     "name": "stdout",
     "output_type": "stream",
     "text": [
      "item:  3\n",
      "invalid example:  2633\n",
      "<title>Barilla Bolognese Pasta Sauce 400g - Villa Market</title><meta name=\"description\" content=\"Barilla Bolognese Pasta Sauce 400g is a delicious Italian-style pasta sauce made with tomatoes, onions, garlic, and herbs. It is perfect for creating a classic Bolognese sauce for your favorite pasta dishes. This sauce is made with all-natural ingredients and is free from preservatives, artificial colors, and flavors. It is also gluten-free and vegan-friendly. Barilla Bolognese Pasta Sauce is a great way to add flavor and texture to your favorite pasta dishes. It is perfect for creating a classic Bolognese sauce for your favorite pasta dishes. This sauce is made with all-natural ingredients and is free from preservatives, artificial colors, and flavors. It is also gluten-free and vegan-friendly. Barilla Bolognese Pasta Sauce is a great way to add flavor and texture to your favorite pasta dishes. Enjoy the delicious taste of Italy with Barilla Bolognese Pasta Sauce. It is perfect for creating a classic Bolognese sauce for your favorite pasta dishes. This sauce is made with all-natural ingredients and is free from preservatives, artificial colors, and flavors. It is also gluten-free and vegan-friendly. Enjoy the delicious taste of Italy with Barilla Bolognese Pasta Sauce.>\"<meta name=\"keywords\" content=\"Barilla,Bolognese Pasta Sauce,IntoGrocery,Oils  VinegarGrocery,Oils  Vinegar,Grocery,Cooking Sauces & Gravy,Pizza & Pasta Sauces,Dry Grocery,Grocery,Oil & Seasoning & Sauce,Cooking Needs\">\n",
      "valid example: 16897\n",
      "<title>DOUGLAS-CT1725-AMBER FOX Doll | Villa Market</title><meta name=\"description\" content=\"Introducing the DOUGLAS-CT1725-AMBER FOX Doll from Villa Market. This doll is perfect for any pet and household, toys, dolls, dry grocery, household, toys, kidoodle lover. It is made from   Douglas Amber FoxDouglas -CT1725-Amber Fox Doll and is part of the Douglas brand. Get your DOUGLAS-CT1725-AMBER FOX Doll today and enjoy the perfect addition to your pet and household, toys, dolls, dry grocery, household, toys, kidoodle collection!\"><meta name=\"keywords\" content=\"DOUGLAS-CT1725-AMBER FOX Doll, Villa Market, Pet & Household, Toys, Dolls, Douglas, Amber Fox\">\n"
     ]
    }
   ],
   "source": [
    "# just keep running this cell to and item will keep running\n",
    "i = next(generator)\n",
    "print('item: ',i)\n",
    "print(\"invalid example: \", len(invalidDf))\n",
    "r = invalidDf.iloc[i].seoOutputText\n",
    "print(r)\n",
    "print(\"valid example:\", len(validDf))\n",
    "r = validDf.iloc[i].seoOutputText\n",
    "print(r)"
   ]
  },
  {
   "cell_type": "code",
   "execution_count": null,
   "metadata": {},
   "outputs": [],
   "source": []
  }
 ],
 "metadata": {
  "kernelspec": {
   "display_name": "python38",
   "language": "python",
   "name": "python3"
  },
  "language_info": {
   "codemirror_mode": {
    "name": "ipython",
    "version": 3
   },
   "file_extension": ".py",
   "mimetype": "text/x-python",
   "name": "python",
   "nbconvert_exporter": "python",
   "pygments_lexer": "ipython3",
   "version": "3.8.13"
  },
  "orig_nbformat": 4,
  "vscode": {
   "interpreter": {
    "hash": "1875df6988ff99fc35a5592604ef8264dfc3bc0e678742a333d7bb0cd4c2588c"
   }
  }
 },
 "nbformat": 4,
 "nbformat_minor": 2
}
