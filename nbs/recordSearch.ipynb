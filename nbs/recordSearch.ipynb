{
 "cells": [
  {
   "cell_type": "code",
   "execution_count": null,
   "metadata": {},
   "outputs": [],
   "source": [
    "# default_exp recordSearch"
   ]
  },
  {
   "attachments": {},
   "cell_type": "markdown",
   "metadata": {},
   "source": [
    "# RecordSearch\n",
    "\n",
    "> Lambda function to record search terms\n"
   ]
  },
  {
   "cell_type": "code",
   "execution_count": null,
   "metadata": {},
   "outputs": [],
   "source": [
    "#export\n",
    "from src.searchCounter import SearchResultRecord, SearchTermRecord\n",
    "from src.searchKevin import Search\n"
   ]
  },
  {
   "cell_type": "code",
   "execution_count": null,
   "metadata": {},
   "outputs": [],
   "source": [
    "#export\n",
    "\n",
    "def recordSearch(event, *context):\n",
    "    try:\n",
    "        searchTerm = event.get('searchTerm', None)\n",
    "        if searchTerm is None:\n",
    "            print(\"no search term provided\")\n",
    "            raise Exception(\"no search term provided\")\n",
    "        print(\"search term: \" + searchTerm)\n",
    "        cprcodes = event.get('cprcodes', None)\n",
    "        if cprcodes is None:\n",
    "            print(\"no cprcodes provided\")\n",
    "            raise Exception(\"no cprcodes provided\")\n",
    "        SearchResultRecord.recordResult(searchTerm=searchTerm, cprcodes=cprcodes)\n",
    "        SearchTermRecord.recordResult(searchTerm=searchTerm, cprcodes=cprcodes)\n",
    "        print(\"successfully saved search result\")[searchTerm]\n",
    "    except Exception as e:\n",
    "        print(\"error: \" + str(e))\n",
    "        "
   ]
  }
 ],
 "metadata": {
  "kernelspec": {
   "display_name": "helpKevin",
   "language": "python",
   "name": "python3"
  }
 },
 "nbformat": 4,
 "nbformat_minor": 2
}
