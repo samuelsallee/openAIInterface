{
 "cells": [
  {
   "cell_type": "code",
   "execution_count": null,
   "metadata": {},
   "outputs": [],
   "source": [
    "# default_exp searchCounter"
   ]
  },
  {
   "attachments": {},
   "cell_type": "markdown",
   "metadata": {},
   "source": [
    "# SearchCounter\n",
    "\n",
    "> DynamoDB table/class definitions for recording searches"
   ]
  },
  {
   "cell_type": "code",
   "execution_count": null,
   "metadata": {},
   "outputs": [],
   "source": [
    "#export\n",
    "from dataclasses import dataclass, field\n",
    "from typing import List\n",
    "from pynamodb.models import Model\n",
    "from pynamodb.attributes import UnicodeAttribute, JSONAttribute, NumberAttribute, ListAttribute\n",
    "from nicHelper.datetime import datestamp as ds\n",
    "from datetime import datetime\n",
    "import pytz, time"
   ]
  },
  {
   "cell_type": "code",
   "execution_count": null,
   "metadata": {},
   "outputs": [
    {
     "ename": "ResourceNotFoundException",
     "evalue": "An error occurred (ResourceNotFoundException) when calling the GetSecretValue operation: Secrets Manager can't find the specified secret.",
     "output_type": "error",
     "traceback": [
      "\u001b[0;31m---------------------------------------------------------------------------\u001b[0m",
      "\u001b[0;31mResourceNotFoundException\u001b[0m                 Traceback (most recent call last)",
      "Cell \u001b[0;32mIn [7], line 2\u001b[0m\n\u001b[1;32m      1\u001b[0m \u001b[39m#export\u001b[39;00m\n\u001b[0;32m----> 2\u001b[0m \u001b[39mfrom\u001b[39;00m \u001b[39msrc\u001b[39;00m\u001b[39m.\u001b[39;00m\u001b[39mgetEnv\u001b[39;00m \u001b[39mimport\u001b[39;00m DAXENDPOINT, BRANCH\n",
      "File \u001b[0;32m~/Repos/villaSearch3/nic/villaSearch3/nbs/src/getEnv.py:11\u001b[0m\n\u001b[1;32m      9\u001b[0m \u001b[39mimport\u001b[39;00m \u001b[39mos\u001b[39;00m\n\u001b[1;32m     10\u001b[0m \u001b[39m# GITHUBTOKEN = os.environ.get('GITHUBTOKEN', '')\u001b[39;00m\n\u001b[0;32m---> 11\u001b[0m GITHUBTOKEN \u001b[39m=\u001b[39m getSecret(name \u001b[39m=\u001b[39;49m \u001b[39m'\u001b[39;49m\u001b[39mgithubToken\u001b[39;49m\u001b[39m'\u001b[39;49m, region \u001b[39m=\u001b[39;49m \u001b[39m'\u001b[39;49m\u001b[39map-southeast-1\u001b[39;49m\u001b[39m'\u001b[39;49m)[\u001b[39m'\u001b[39m\u001b[39mgithubToken\u001b[39m\u001b[39m'\u001b[39m]\n\u001b[1;32m     12\u001b[0m SEARCHENDPOINT \u001b[39m=\u001b[39m os\u001b[39m.\u001b[39menviron\u001b[39m.\u001b[39mget(\u001b[39m'\u001b[39m\u001b[39mSEARCHENDPOINT\u001b[39m\u001b[39m'\u001b[39m)\n\u001b[1;32m     13\u001b[0m BRANCH \u001b[39m=\u001b[39m os\u001b[39m.\u001b[39menviron\u001b[39m.\u001b[39mget(\u001b[39m'\u001b[39m\u001b[39mBRANCH\u001b[39m\u001b[39m'\u001b[39m)\n",
      "File \u001b[0;32m~/anaconda3/envs/helpKevin/lib/python3.8/site-packages/nicHelper/secrets.py:17\u001b[0m, in \u001b[0;36mgetSecret\u001b[0;34m(name, region, **kwargs)\u001b[0m\n\u001b[1;32m     11\u001b[0m session \u001b[39m=\u001b[39m boto3\u001b[39m.\u001b[39msession\u001b[39m.\u001b[39mSession()\n\u001b[1;32m     12\u001b[0m client \u001b[39m=\u001b[39m session\u001b[39m.\u001b[39mclient(\n\u001b[1;32m     13\u001b[0m     service_name\u001b[39m=\u001b[39m\u001b[39m'\u001b[39m\u001b[39msecretsmanager\u001b[39m\u001b[39m'\u001b[39m,\n\u001b[1;32m     14\u001b[0m     region_name\u001b[39m=\u001b[39mregion,\n\u001b[1;32m     15\u001b[0m     \u001b[39m*\u001b[39m\u001b[39m*\u001b[39mkwargs\n\u001b[1;32m     16\u001b[0m )\n\u001b[0;32m---> 17\u001b[0m get_secret_value_response \u001b[39m=\u001b[39m client\u001b[39m.\u001b[39;49mget_secret_value(\n\u001b[1;32m     18\u001b[0m     SecretId\u001b[39m=\u001b[39;49mname\n\u001b[1;32m     19\u001b[0m )\n\u001b[1;32m     20\u001b[0m \u001b[39mreturn\u001b[39;00m json\u001b[39m.\u001b[39mloads(get_secret_value_response[\u001b[39m'\u001b[39m\u001b[39mSecretString\u001b[39m\u001b[39m'\u001b[39m])\n",
      "File \u001b[0;32m~/anaconda3/envs/helpKevin/lib/python3.8/site-packages/botocore/client.py:515\u001b[0m, in \u001b[0;36mClientCreator._create_api_method.<locals>._api_call\u001b[0;34m(self, *args, **kwargs)\u001b[0m\n\u001b[1;32m    511\u001b[0m     \u001b[39mraise\u001b[39;00m \u001b[39mTypeError\u001b[39;00m(\n\u001b[1;32m    512\u001b[0m         \u001b[39mf\u001b[39m\u001b[39m\"\u001b[39m\u001b[39m{\u001b[39;00mpy_operation_name\u001b[39m}\u001b[39;00m\u001b[39m() only accepts keyword arguments.\u001b[39m\u001b[39m\"\u001b[39m\n\u001b[1;32m    513\u001b[0m     )\n\u001b[1;32m    514\u001b[0m \u001b[39m# The \"self\" in this scope is referring to the BaseClient.\u001b[39;00m\n\u001b[0;32m--> 515\u001b[0m \u001b[39mreturn\u001b[39;00m \u001b[39mself\u001b[39;49m\u001b[39m.\u001b[39;49m_make_api_call(operation_name, kwargs)\n",
      "File \u001b[0;32m~/anaconda3/envs/helpKevin/lib/python3.8/site-packages/botocore/client.py:934\u001b[0m, in \u001b[0;36mBaseClient._make_api_call\u001b[0;34m(self, operation_name, api_params)\u001b[0m\n\u001b[1;32m    932\u001b[0m     error_code \u001b[39m=\u001b[39m parsed_response\u001b[39m.\u001b[39mget(\u001b[39m\"\u001b[39m\u001b[39mError\u001b[39m\u001b[39m\"\u001b[39m, {})\u001b[39m.\u001b[39mget(\u001b[39m\"\u001b[39m\u001b[39mCode\u001b[39m\u001b[39m\"\u001b[39m)\n\u001b[1;32m    933\u001b[0m     error_class \u001b[39m=\u001b[39m \u001b[39mself\u001b[39m\u001b[39m.\u001b[39mexceptions\u001b[39m.\u001b[39mfrom_code(error_code)\n\u001b[0;32m--> 934\u001b[0m     \u001b[39mraise\u001b[39;00m error_class(parsed_response, operation_name)\n\u001b[1;32m    935\u001b[0m \u001b[39melse\u001b[39;00m:\n\u001b[1;32m    936\u001b[0m     \u001b[39mreturn\u001b[39;00m parsed_response\n",
      "\u001b[0;31mResourceNotFoundException\u001b[0m: An error occurred (ResourceNotFoundException) when calling the GetSecretValue operation: Secrets Manager can't find the specified secret."
     ]
    }
   ],
   "source": [
    "#export\n",
    "from src.getEnv import DAXENDPOINT, BRANCH"
   ]
  },
  {
   "cell_type": "code",
   "execution_count": null,
   "metadata": {},
   "outputs": [],
   "source": [
    "#hide\n",
    "BRANCH = \"fakeBranch\"\n",
    "DAXENDPOINT = None"
   ]
  },
  {
   "cell_type": "code",
   "execution_count": null,
   "metadata": {},
   "outputs": [],
   "source": [
    "#export\n",
    "@dataclass\n",
    "class SearchResultRecord:\n",
    "    cprcode: str #hash key\n",
    "    datestamp: int \n",
    "    searchTerms: List[str]  = field(default_factory=list)\n",
    "    counter: int = 0\n",
    "\n",
    "    @staticmethod\n",
    "    def recordResult(searchTerm:str, cprcodes:List[str]):\n",
    "        \n",
    "        datestamp = datetime.fromtimestamp(time.time(), tz=pytz.timezone('Asia/Bangkok')).date()\n",
    "        monthYear = datestamp.strftime(\"%m-%Y\") \n",
    "        for cprcode in cprcodes:\n",
    "            SearchResultMonthlyRecordTable.add(cprcode, monthYear, searchTerm)\n",
    "            SearchResultDailyRecordTable.add(cprcode, datestamp.strftime(\"%d-%m-%Y\"), searchTerm)\n",
    "\n",
    "@dataclass\n",
    "class SearchTermRecord:\n",
    "    searchTerm: str\n",
    "    datestamp: int \n",
    "    cprcodes: List[str] = field(default_factory=list)\n",
    "    counter: int = 0\n",
    "\n",
    "    @staticmethod\n",
    "    def recordResult(searchTerm: str, cprcodes:List[str]):\n",
    "        datestamp = datetime.fromtimestamp(time.time(), tz=pytz.timezone('Asia/Bangkok')).date().strftime(\"%d-%m-%Y\")\n",
    "        SearchTermDailyRecordTable.add(searchTerm, datestamp, cprcodes)\n",
    "\n",
    "\n",
    "    \n"
   ]
  },
  {
   "cell_type": "code",
   "execution_count": null,
   "metadata": {},
   "outputs": [],
   "source": [
    "#export\n",
    "class SearchResultMonthlyRecordTable(Model):\n",
    "    class Meta:\n",
    "        table_name = f'search-result-monthly-record-table-{BRANCH}'\n",
    "        region = 'ap-southeast-1'\n",
    "        billing_mode='PAY_PER_REQUEST'\n",
    "        dax_read_endpoints = [DAXENDPOINT] if DAXENDPOINT else None\n",
    "        dax_write_endpoints = [DAXENDPOINT] if DAXENDPOINT else None\n",
    "    \n",
    "    cprcode = UnicodeAttribute(hash_key=True)\n",
    "    monthYear = UnicodeAttribute(range_key=True) #MMYY\n",
    "    count = NumberAttribute()\n",
    "    searchTerms = JSONAttribute(default={})\n",
    "    \n",
    "    @classmethod\n",
    "    def add(cls, cprcode:str, monthYear:int, searchTerm:str):\n",
    "        try:\n",
    "            item = next(\n",
    "                cls.query(cprcode, cls.monthYear==monthYear), \n",
    "                cls(cprcode=cprcode, monthYear=monthYear, count = 0, searchTerms=[]))\n",
    "\n",
    "            item.count += 1\n",
    "            \n",
    "            if searchTerm not in item.searchTerms:\n",
    "                try:\n",
    "                    item.searchTerms[searchTerm] = 1\n",
    "                except:\n",
    "                    item.searchTerms = {searchTerm:1}\n",
    "            else:\n",
    "                item.searchTerms[searchTerm] += 1\n",
    "            item.save()\n",
    "            return item\n",
    "        except Exception as e:\n",
    "            print(f\"unable to add {cprcode} to record: {e}\")\n",
    "            # sentry here\n",
    "\n",
    "class SearchResultDailyRecordTable(Model):\n",
    "    class Meta:\n",
    "        table_name = f'search-result-daily-record-table-{BRANCH}'\n",
    "        region = 'ap-southeast-1'\n",
    "        billing_mode='PAY_PER_REQUEST'\n",
    "        dax_read_endpoints = [DAXENDPOINT] if DAXENDPOINT else None\n",
    "        dax_write_endpoints = [DAXENDPOINT] if DAXENDPOINT else None\n",
    "    \n",
    "    cprcode = UnicodeAttribute(hash_key=True)\n",
    "    datestamp = UnicodeAttribute(range_key=True)\n",
    "    count = NumberAttribute()\n",
    "    searchTerms = JSONAttribute()\n",
    "\n",
    "\n",
    "    @classmethod\n",
    "    def add(cls, cprcode:str, datestamp:int, searchTerm:str):\n",
    "        try:\n",
    "            item = next(\n",
    "                cls.query(cprcode, cls.datestamp==datestamp), \n",
    "                cls(cprcode=cprcode, datestamp=datestamp, count = 0, searchTerms=[]))\n",
    "\n",
    "            item.count += 1\n",
    "            if searchTerm not in item.searchTerms:\n",
    "                try:\n",
    "                    item.searchTerms[searchTerm] = 1\n",
    "                except:\n",
    "                    item.searchTerms = {searchTerm:1}\n",
    "            else:\n",
    "                item.searchTerms[searchTerm] += 1\n",
    "            item.save()\n",
    "            return item\n",
    "        except Exception as e:\n",
    "            print(f\"unable to add {cprcode} to record: {e}\")\n",
    "            # sentry here\n"
   ]
  },
  {
   "cell_type": "code",
   "execution_count": null,
   "metadata": {},
   "outputs": [],
   "source": [
    "#export\n",
    "class SearchTermDailyRecordTable(Model):\n",
    "    class Meta:\n",
    "        table_name = f'search-term-daily-record-table-{BRANCH}'\n",
    "        region = 'ap-southeast-1'\n",
    "        billing_mode='PAY_PER_REQUEST'\n",
    "        dax_read_endpoints = [DAXENDPOINT] if DAXENDPOINT else None\n",
    "        dax_write_endpoints = [DAXENDPOINT] if DAXENDPOINT else None\n",
    "    \n",
    "    searchTerm = UnicodeAttribute(hash_key=True)\n",
    "    datestamp = UnicodeAttribute(range_key=True)\n",
    "    count = NumberAttribute()\n",
    "    cprcodes = ListAttribute()\n",
    "\n",
    "    @staticmethod\n",
    "    def appedCprcodes(item, cprcodes:List[str]):\n",
    "        for code in cprcodes:\n",
    "            if code not in item.cprcodes:\n",
    "                item.cprcodes.append(code)\n",
    "\n",
    "    @classmethod\n",
    "    def add(cls, searchTerm:str, datestamp:int, cprcodes:List[str]):\n",
    "        try:\n",
    "            item = next(\n",
    "                cls.query(searchTerm, cls.datestamp==datestamp), \n",
    "                cls(searchTerm=searchTerm, datestamp=datestamp, count = 0, cprcodes=[]))\n",
    "\n",
    "            item.count += 1\n",
    "            for code in cprcodes:\n",
    "                if code not in item.cprcodes:\n",
    "                    item.cprcodes.append(code)\n",
    "            item.save()\n",
    "            return item\n",
    "        except Exception as e:\n",
    "            print(f\"unable to add {searchTerm} to record: {e}\")\n",
    "            # sentry here"
   ]
  },
  {
   "cell_type": "code",
   "execution_count": null,
   "metadata": {},
   "outputs": [],
   "source": [
    "#hide\n",
    "SearchResultMonthlyRecordTable.create_table(billing_mode='PAY_PER_REQUEST')"
   ]
  },
  {
   "cell_type": "code",
   "execution_count": null,
   "metadata": {},
   "outputs": [
    {
     "data": {
      "text/plain": [
       "{'cde': 3}"
      ]
     },
     "execution_count": null,
     "metadata": {},
     "output_type": "execute_result"
    }
   ],
   "source": [
    "#hide\n",
    "r = SearchResultMonthlyRecordTable.add('1234567890123', 2101, 'cde')\n",
    "r.searchTerms"
   ]
  },
  {
   "cell_type": "code",
   "execution_count": null,
   "metadata": {},
   "outputs": [],
   "source": [
    "#hide\n",
    "SearchResultDailyRecordTable.create_table(billing_mode='PAY_PER_REQUEST')"
   ]
  },
  {
   "cell_type": "code",
   "execution_count": null,
   "metadata": {},
   "outputs": [
    {
     "data": {
      "text/plain": [
       "{'c': 2, 'a': 4, 'd': 1}"
      ]
     },
     "execution_count": null,
     "metadata": {},
     "output_type": "execute_result"
    }
   ],
   "source": [
    "#hide\n",
    "r = SearchResultDailyRecordTable.add('1234567890123', 2101, 'd')\n",
    "r.searchTerms"
   ]
  },
  {
   "cell_type": "code",
   "execution_count": null,
   "metadata": {},
   "outputs": [],
   "source": [
    "#hide\n",
    "SearchTermDailyRecordTable.create_table(billing_mode='PAY_PER_REQUEST')"
   ]
  },
  {
   "cell_type": "code",
   "execution_count": null,
   "metadata": {},
   "outputs": [
    {
     "data": {
      "text/plain": [
       "6"
      ]
     },
     "execution_count": null,
     "metadata": {},
     "output_type": "execute_result"
    }
   ],
   "source": [
    "#hide\n",
    "r = SearchTermDailyRecordTable.add('abc', 2101, ['234'])\n",
    "r.count"
   ]
  },
  {
   "cell_type": "code",
   "execution_count": null,
   "metadata": {},
   "outputs": [],
   "source": [
    "#hide\n",
    "SearchResultRecord.recordResult('abc', ['1234567890123', '2345678901234'])"
   ]
  },
  {
   "cell_type": "code",
   "execution_count": null,
   "metadata": {},
   "outputs": [],
   "source": [
    "#hide\n",
    "SearchTermRecord.recordResult('abc', ['1234567890123', '2345678901234'])"
   ]
  },
  {
   "cell_type": "code",
   "execution_count": null,
   "metadata": {},
   "outputs": [
    {
     "ename": "TableError",
     "evalue": "Failed to delete table: An error occurred (ResourceNotFoundException) on request (04NO7MMNJK444DKD74UC3CMKD7VV4KQNSO5AEMVJF66Q9ASUAAJG) on table (search-result-monthly-record-table-fakeBranch) when calling the DeleteTable operation: Requested resource not found: Table: search-result-monthly-record-table-fakeBranch not found",
     "output_type": "error",
     "traceback": [
      "\u001b[0;31m---------------------------------------------------------------------------\u001b[0m",
      "\u001b[0;31mVerboseClientError\u001b[0m                        Traceback (most recent call last)",
      "File \u001b[0;32m~/anaconda3/envs/helpKevin/lib/python3.8/site-packages/pynamodb/connection/base.py:704\u001b[0m, in \u001b[0;36mConnection.delete_table\u001b[0;34m(self, table_name)\u001b[0m\n\u001b[1;32m    703\u001b[0m \u001b[39mtry\u001b[39;00m:\n\u001b[0;32m--> 704\u001b[0m     data \u001b[39m=\u001b[39m \u001b[39mself\u001b[39;49m\u001b[39m.\u001b[39;49mdispatch(DELETE_TABLE, operation_kwargs)\n\u001b[1;32m    705\u001b[0m \u001b[39mexcept\u001b[39;00m BOTOCORE_EXCEPTIONS \u001b[39mas\u001b[39;00m e:\n",
      "File \u001b[0;32m~/anaconda3/envs/helpKevin/lib/python3.8/site-packages/pynamodb/connection/base.py:339\u001b[0m, in \u001b[0;36mConnection.dispatch\u001b[0;34m(self, operation_name, operation_kwargs, settings)\u001b[0m\n\u001b[1;32m    338\u001b[0m \u001b[39mself\u001b[39m\u001b[39m.\u001b[39msend_pre_boto_callback(operation_name, req_uuid, table_name)\n\u001b[0;32m--> 339\u001b[0m data \u001b[39m=\u001b[39m \u001b[39mself\u001b[39;49m\u001b[39m.\u001b[39;49m_make_api_call(operation_name, operation_kwargs, settings)\n\u001b[1;32m    340\u001b[0m \u001b[39mself\u001b[39m\u001b[39m.\u001b[39msend_post_boto_callback(operation_name, req_uuid, table_name)\n",
      "File \u001b[0;32m~/anaconda3/envs/helpKevin/lib/python3.8/site-packages/pynamodb/connection/base.py:468\u001b[0m, in \u001b[0;36mConnection._make_api_call\u001b[0;34m(self, operation_name, operation_kwargs, settings)\u001b[0m\n\u001b[1;32m    467\u001b[0m \u001b[39mtry\u001b[39;00m:\n\u001b[0;32m--> 468\u001b[0m     \u001b[39mraise\u001b[39;00m VerboseClientError(botocore_expected_format, operation_name, verbose_properties)\n\u001b[1;32m    469\u001b[0m \u001b[39mexcept\u001b[39;00m VerboseClientError \u001b[39mas\u001b[39;00m e:\n",
      "\u001b[0;31mVerboseClientError\u001b[0m: An error occurred (ResourceNotFoundException) on request (04NO7MMNJK444DKD74UC3CMKD7VV4KQNSO5AEMVJF66Q9ASUAAJG) on table (search-result-monthly-record-table-fakeBranch) when calling the DeleteTable operation: Requested resource not found: Table: search-result-monthly-record-table-fakeBranch not found",
      "\nDuring handling of the above exception, another exception occurred:\n",
      "\u001b[0;31mTableError\u001b[0m                                Traceback (most recent call last)",
      "Cell \u001b[0;32mIn [194], line 2\u001b[0m\n\u001b[1;32m      1\u001b[0m \u001b[39m#hide\u001b[39;00m\n\u001b[0;32m----> 2\u001b[0m SearchResultMonthlyRecordTable\u001b[39m.\u001b[39;49mdelete_table()\n\u001b[1;32m      3\u001b[0m SearchResultDailyRecordTable\u001b[39m.\u001b[39mdelete_table()\n\u001b[1;32m      4\u001b[0m SearchTermDailyRecordTable\u001b[39m.\u001b[39mdelete_table()\n",
      "File \u001b[0;32m~/anaconda3/envs/helpKevin/lib/python3.8/site-packages/pynamodb/models.py:772\u001b[0m, in \u001b[0;36mModel.delete_table\u001b[0;34m(cls)\u001b[0m\n\u001b[1;32m    767\u001b[0m \u001b[39m@classmethod\u001b[39m\n\u001b[1;32m    768\u001b[0m \u001b[39mdef\u001b[39;00m \u001b[39mdelete_table\u001b[39m(\u001b[39mcls\u001b[39m) \u001b[39m-\u001b[39m\u001b[39m>\u001b[39m Any:\n\u001b[1;32m    769\u001b[0m     \u001b[39m\"\"\"\u001b[39;00m\n\u001b[1;32m    770\u001b[0m \u001b[39m    Delete the table for this model\u001b[39;00m\n\u001b[1;32m    771\u001b[0m \u001b[39m    \"\"\"\u001b[39;00m\n\u001b[0;32m--> 772\u001b[0m     \u001b[39mreturn\u001b[39;00m \u001b[39mcls\u001b[39;49m\u001b[39m.\u001b[39;49m_get_connection()\u001b[39m.\u001b[39;49mdelete_table()\n",
      "File \u001b[0;32m~/anaconda3/envs/helpKevin/lib/python3.8/site-packages/pynamodb/connection/table.py:300\u001b[0m, in \u001b[0;36mTableConnection.delete_table\u001b[0;34m(self)\u001b[0m\n\u001b[1;32m    296\u001b[0m \u001b[39mdef\u001b[39;00m \u001b[39mdelete_table\u001b[39m(\u001b[39mself\u001b[39m) \u001b[39m-\u001b[39m\u001b[39m>\u001b[39m Dict:\n\u001b[1;32m    297\u001b[0m     \u001b[39m\"\"\"\u001b[39;00m\n\u001b[1;32m    298\u001b[0m \u001b[39m    Performs the DeleteTable operation and returns the result\u001b[39;00m\n\u001b[1;32m    299\u001b[0m \u001b[39m    \"\"\"\u001b[39;00m\n\u001b[0;32m--> 300\u001b[0m     \u001b[39mreturn\u001b[39;00m \u001b[39mself\u001b[39;49m\u001b[39m.\u001b[39;49mconnection\u001b[39m.\u001b[39;49mdelete_table(\u001b[39mself\u001b[39;49m\u001b[39m.\u001b[39;49mtable_name)\n",
      "File \u001b[0;32m~/anaconda3/envs/helpKevin/lib/python3.8/site-packages/pynamodb/connection/base.py:706\u001b[0m, in \u001b[0;36mConnection.delete_table\u001b[0;34m(self, table_name)\u001b[0m\n\u001b[1;32m    704\u001b[0m     data \u001b[39m=\u001b[39m \u001b[39mself\u001b[39m\u001b[39m.\u001b[39mdispatch(DELETE_TABLE, operation_kwargs)\n\u001b[1;32m    705\u001b[0m \u001b[39mexcept\u001b[39;00m BOTOCORE_EXCEPTIONS \u001b[39mas\u001b[39;00m e:\n\u001b[0;32m--> 706\u001b[0m     \u001b[39mraise\u001b[39;00m TableError(\u001b[39m\"\u001b[39m\u001b[39mFailed to delete table: \u001b[39m\u001b[39m{}\u001b[39;00m\u001b[39m\"\u001b[39m\u001b[39m.\u001b[39mformat(e), e)\n\u001b[1;32m    707\u001b[0m \u001b[39mreturn\u001b[39;00m data\n",
      "\u001b[0;31mTableError\u001b[0m: Failed to delete table: An error occurred (ResourceNotFoundException) on request (04NO7MMNJK444DKD74UC3CMKD7VV4KQNSO5AEMVJF66Q9ASUAAJG) on table (search-result-monthly-record-table-fakeBranch) when calling the DeleteTable operation: Requested resource not found: Table: search-result-monthly-record-table-fakeBranch not found"
     ]
    }
   ],
   "source": [
    "#hide\n",
    "SearchResultMonthlyRecordTable.delete_table()\n",
    "SearchResultDailyRecordTable.delete_table()\n",
    "SearchTermDailyRecordTable.delete_table()"
   ]
  },
  {
   "cell_type": "code",
   "execution_count": null,
   "metadata": {},
   "outputs": [],
   "source": []
  }
 ],
 "metadata": {
  "kernelspec": {
   "display_name": "helpKevin",
   "language": "python",
   "name": "python3"
  }
 },
 "nbformat": 4,
 "nbformat_minor": 4
}
